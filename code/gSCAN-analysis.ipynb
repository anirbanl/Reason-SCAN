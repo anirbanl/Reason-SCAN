{
 "cells": [
  {
   "cell_type": "code",
   "execution_count": 1,
   "metadata": {},
   "outputs": [],
   "source": [
    "import json\n",
    "import os\n",
    "\n",
    "external_data_dir = \"../data-files/\"\n",
    "gSCAN_data_file = \"gSCAN-compositional_splits/dataset.txt\"\n",
    "\n",
    "data_json = json.load(open(os.path.join(external_data_dir, gSCAN_data_file)))"
   ]
  },
  {
   "cell_type": "code",
   "execution_count": 6,
   "metadata": {},
   "outputs": [
    {
     "name": "stdout",
     "output_type": "stream",
     "text": [
      "walk,to,a,yellow,small,cylinder\n",
      "0\n"
     ]
    }
   ],
   "source": [
    "count = 0\n",
    "for example in data_json[\"examples\"][\"train\"]:\n",
    "    if \"while spinning\" in example[\"command\"] or \\\n",
    "        \"while zigzagging\" in example[\"command\"] or \\\n",
    "        \"hesitantly\" in example[\"command\"] or \\\n",
    "        \"cautiously\" in example[\"command\"]:\n",
    "        pass\n",
    "    else:\n",
    "        print(example[\"command\"])\n",
    "        break\n",
    "        count += 1\n",
    "print(count)"
   ]
  },
  {
   "cell_type": "code",
   "execution_count": 4,
   "metadata": {},
   "outputs": [
    {
     "name": "stdout",
     "output_type": "stream",
     "text": [
      "train 367933\n",
      "dev 3716\n",
      "test 19282\n",
      "visual 37436\n",
      "situational_1 88642\n",
      "situational_2 16808\n",
      "contextual 11460\n",
      "adverb_1 112880\n",
      "adverb_2 38582\n",
      "visual_easier 18718\n"
     ]
    }
   ],
   "source": [
    "for split, examples in data_json[\"examples\"].items():\n",
    "    print(split, len(examples))"
   ]
  },
  {
   "cell_type": "code",
   "execution_count": 3,
   "metadata": {},
   "outputs": [
    {
     "data": {
      "text/plain": [
       "0.9"
      ]
     },
     "execution_count": 3,
     "metadata": {},
     "output_type": "execute_result"
    }
   ],
   "source": [
    "data_json[\"percentage_train\"]"
   ]
  },
  {
   "cell_type": "code",
   "execution_count": null,
   "metadata": {},
   "outputs": [],
   "source": []
  }
 ],
 "metadata": {
  "kernelspec": {
   "display_name": "Python 3",
   "language": "python",
   "name": "python3"
  },
  "language_info": {
   "codemirror_mode": {
    "name": "ipython",
    "version": 3
   },
   "file_extension": ".py",
   "mimetype": "text/x-python",
   "name": "python",
   "nbconvert_exporter": "python",
   "pygments_lexer": "ipython3",
   "version": "3.7.3"
  }
 },
 "nbformat": 4,
 "nbformat_minor": 4
}
