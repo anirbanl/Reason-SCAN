{
 "cells": [
  {
   "cell_type": "code",
   "execution_count": 1,
   "metadata": {},
   "outputs": [],
   "source": [
    "import json\n",
    "import os\n",
    "\n",
    "external_data_dir = \"../data-files/\"\n",
    "gSCAN_data_file = \"gSCAN-compositional_splits/dataset.txt\"\n",
    "\n",
    "data_json = json.load(open(os.path.join(external_data_dir, gSCAN_data_file)))"
   ]
  },
  {
   "cell_type": "code",
   "execution_count": 3,
   "metadata": {},
   "outputs": [
    {
     "name": "stdout",
     "output_type": "stream",
     "text": [
      "9388\n"
     ]
    }
   ],
   "source": [
    "count = 0\n",
    "for example in data_json[\"examples\"][\"train\"]:\n",
    "    if \"small\" in example[\"command\"] and \"red\" in example[\"command\"]:\n",
    "        count += 1\n",
    "print(count)"
   ]
  },
  {
   "cell_type": "code",
   "execution_count": null,
   "metadata": {},
   "outputs": [],
   "source": []
  }
 ],
 "metadata": {
  "kernelspec": {
   "display_name": "Python 3",
   "language": "python",
   "name": "python3"
  },
  "language_info": {
   "codemirror_mode": {
    "name": "ipython",
    "version": 3
   },
   "file_extension": ".py",
   "mimetype": "text/x-python",
   "name": "python",
   "nbconvert_exporter": "python",
   "pygments_lexer": "ipython3",
   "version": "3.7.3"
  }
 },
 "nbformat": 4,
 "nbformat_minor": 4
}
