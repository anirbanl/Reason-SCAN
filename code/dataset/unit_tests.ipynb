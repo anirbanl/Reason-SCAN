{
 "cells": [
  {
   "cell_type": "markdown",
   "metadata": {},
   "source": [
    "### Unit tests for ReaSCAN modules"
   ]
  },
  {
   "cell_type": "code",
   "execution_count": 1,
   "metadata": {},
   "outputs": [],
   "source": [
    "from collections import namedtuple, OrderedDict\n",
    "import itertools\n",
    "import os\n",
    "import numpy as np\n",
    "from typing import Tuple\n",
    "from typing import List\n",
    "from typing import Dict\n",
    "import random\n",
    "from itertools import product\n",
    "import copy\n",
    "import re\n",
    "import random\n",
    "\n",
    "from utils import one_hot\n",
    "from utils import generate_possible_object_names\n",
    "from utils import numpy_array_to_image\n",
    "\n",
    "from vocabulary import *\n",
    "from object_vocabulary import *\n",
    "from world import *\n",
    "from grammer import *\n",
    "from simulator import *"
   ]
  },
  {
   "cell_type": "markdown",
   "metadata": {},
   "source": [
    "Vocabulary"
   ]
  },
  {
   "cell_type": "code",
   "execution_count": 2,
   "metadata": {},
   "outputs": [],
   "source": [
    "# test out the vocabulary\n",
    "intransitive_verbs = [\"walk\"]\n",
    "transitive_verbs = [\"push\", \"pull\"]\n",
    "adverbs = [\"quickly\", \"slowly\", \"while zigzagging\", \"while spinning\", \"cautiously\", \"hesitantly\"]\n",
    "nouns = [\"circle\", \"cylinder\", \"square\", \"box\"]\n",
    "color_adjectives = [\"red\", \"blue\", \"green\", \"yellow\"]\n",
    "size_adjectives = [\"big\", \"small\"]\n",
    "relative_pronouns = [\"that is\"]\n",
    "relation_clauses = [\"in the same row as\", \n",
    "                    \"in the same column as\", \n",
    "                    \"in the same color as\", \n",
    "                    \"in the same shape as\", \n",
    "                    \"in the same size as\",\n",
    "                    \"inside of\"]\n",
    "vocabulary = Vocabulary.initialize(intransitive_verbs=intransitive_verbs,\n",
    "                                   transitive_verbs=transitive_verbs, adverbs=adverbs, nouns=nouns,\n",
    "                                   color_adjectives=color_adjectives,\n",
    "                                   size_adjectives=size_adjectives, \n",
    "                                   relative_pronouns=relative_pronouns, \n",
    "                                   relation_clauses=relation_clauses)"
   ]
  },
  {
   "cell_type": "code",
   "execution_count": 3,
   "metadata": {},
   "outputs": [
    {
     "name": "stdout",
     "output_type": "stream",
     "text": [
      "== Vocabuary Tests Passed ==\n"
     ]
    }
   ],
   "source": [
    "# color\n",
    "assert \"grey\" not in vocabulary.get_color_adjectives()\n",
    "assert \"red\" in vocabulary.get_color_adjectives()\n",
    "assert \"blue\" in vocabulary.get_color_adjectives()\n",
    "assert \"green\" in vocabulary.get_color_adjectives()\n",
    "assert \"yellow\" in vocabulary.get_color_adjectives()\n",
    "\n",
    "# vvs\n",
    "assert \"push\" not in vocabulary.get_intransitive_verbs()\n",
    "assert \"walk\" in vocabulary.get_intransitive_verbs()\n",
    "\n",
    "print(\"== Vocabuary Tests Passed ==\")"
   ]
  },
  {
   "cell_type": "markdown",
   "metadata": {},
   "source": [
    "Object Vocabulary"
   ]
  },
  {
   "cell_type": "code",
   "execution_count": 4,
   "metadata": {},
   "outputs": [],
   "source": [
    "min_object_size = 1\n",
    "max_object_size = 4\n",
    "object_vocabulary = ObjectVocabulary(shapes=vocabulary.get_semantic_shapes(),\n",
    "                                     colors=vocabulary.get_semantic_colors(),\n",
    "                                     min_size=min_object_size, max_size=max_object_size)"
   ]
  },
  {
   "cell_type": "code",
   "execution_count": 5,
   "metadata": {},
   "outputs": [
    {
     "name": "stdout",
     "output_type": "stream",
     "text": [
      "== Object Vocabuary Tests Passed ==\n"
     ]
    }
   ],
   "source": [
    "object_set = set([])\n",
    "for obj in object_vocabulary.all_objects:\n",
    "    object_set.add(obj)\n",
    "assert (1, 'blue', 'box') in object_set\n",
    "assert (5, 'blue', 'box') not in object_set\n",
    "\n",
    "assert object_vocabulary.smallest_size == 1\n",
    "assert object_vocabulary.largest_size == 4\n",
    "\n",
    "assert len(object_vocabulary.object_colors) == 4\n",
    "print(\"== Object Vocabuary Tests Passed ==\")"
   ]
  },
  {
   "cell_type": "markdown",
   "metadata": {},
   "source": [
    "Grammer"
   ]
  },
  {
   "cell_type": "code",
   "execution_count": 6,
   "metadata": {},
   "outputs": [],
   "source": [
    "grammer = Grammer(vocabulary)"
   ]
  },
  {
   "cell_type": "code",
   "execution_count": 7,
   "metadata": {},
   "outputs": [
    {
     "name": "stdout",
     "output_type": "stream",
     "text": [
      "== Grammer Tests Passed ==\n"
     ]
    }
   ],
   "source": [
    "# root can contains abstract shape!\n",
    "root_shape = grammer._sample_object_pattern(root=True)\n",
    "assert '$ABS_SHAPE' in root_shape\n",
    "\n",
    "other_shape = grammer._sample_object_pattern(root=False)\n",
    "assert '$ABS_SHAPE' not in other_shape\n",
    "\n",
    "dependency = grammer.build_dependency_graph('$OBJ_0 ^ $OBJ_1 & $OBJ_2')\n",
    "assert '$OBJ_1' in dependency['$OBJ_0']\n",
    "assert '$OBJ_2' in dependency['$OBJ_0']\n",
    "\n",
    "dependency = grammer.build_dependency_graph('$OBJ_0 ^ $OBJ_1')\n",
    "assert '$OBJ_1' in dependency['$OBJ_0']\n",
    "assert '$OBJ_0' not in dependency['$OBJ_0']\n",
    "\n",
    "dependency = grammer.build_dependency_graph('$OBJ_0 ^ $OBJ_1 ^ $OBJ_2')\n",
    "assert '$OBJ_1' in dependency['$OBJ_0']\n",
    "assert '$OBJ_2' in dependency['$OBJ_1']\n",
    "\n",
    "# some harder tests!\n",
    "relations = grammer.sample_object_relation_grammer(\n",
    "    '$OBJ_0', \n",
    "    grammer.build_dependency_graph('$OBJ_0 ^ $OBJ_1 & $OBJ_2'))\n",
    "\n",
    "for relation in relations:\n",
    "    obj_map = relation[0]\n",
    "    rel_map = relation[1]\n",
    "    for obj, obj_pattern in obj_map.items():\n",
    "        for k, v in rel_map.items():\n",
    "            if k[0] == obj:\n",
    "                if \"$SHAPE\" in obj_pattern:\n",
    "                    assert v != \"$SAME_SHAPE\"\n",
    "                if \"$COLOR\" in obj_pattern:\n",
    "                    assert v != \"$SAME_COLOR\"\n",
    "                if \"$SIZE\" in obj_pattern:\n",
    "                    assert v != \"$SAME_SIZE\"\n",
    "\n",
    "obj_pattern_map = {'$OBJ_0': '$SHAPE', '$OBJ_1': '$SIZE $SHAPE', '$OBJ_2': '$COLOR $SHAPE'}\n",
    "rel_map = {('$OBJ_0', '$OBJ_1'): '$SAME_ROW', ('$OBJ_0', '$OBJ_2'): '$SAME_COLUMN'}\n",
    "grammer_pattern = '$OBJ_0 ^ $OBJ_1 & $OBJ_2'\n",
    "command_dictionary = grammer.grounding_grammer_with_vocabulary(grammer_pattern, obj_pattern_map, rel_map)\n",
    "\n",
    "found = False\n",
    "for command in command_dictionary:\n",
    "    assert \"red\" not in command[\"$OBJ_0\"]\n",
    "    if \"red\" in command[\"$OBJ_2\"]:\n",
    "        found = True\n",
    "assert found\n",
    "\n",
    "# Command generation\n",
    "obj_pattern_map = {'$OBJ_0': '$ABS_SHAPE', '$OBJ_1': '$SHAPE', '$OBJ_2': '$SHAPE'}\n",
    "rel_map = {('$OBJ_0', '$OBJ_1'): '$SAME_COLUMN', ('$OBJ_0', '$OBJ_2'): '$SAME_ROW'}\n",
    "obj_map = {'$OBJ_0': 'object', '$OBJ_1': 'circle', '$OBJ_2': 'cylinder'}\n",
    "grammer_pattern = '$OBJ_0 ^ $OBJ_1 & $OBJ_2'\n",
    "verb = \"walk\"\n",
    "adverb = \"cautiously\"\n",
    "obj_determiner_map = {'$OBJ_0': 'the', '$OBJ_1': 'a', '$OBJ_2': 'a'}\n",
    "command_str = grammer.repre_str_command(\n",
    "    grammer_pattern, rel_map, obj_map, \n",
    "    obj_determiner_map, \n",
    "    verb,\n",
    "    adverb,\n",
    ")\n",
    "assert \"object\" in command_str\n",
    "assert \"square\" not in command_str\n",
    "assert \"the\" in command_str\n",
    "assert \" a \" in command_str\n",
    "print(\"== Grammer Tests Passed ==\")"
   ]
  },
  {
   "cell_type": "markdown",
   "metadata": {},
   "source": [
    "Shape World"
   ]
  },
  {
   "cell_type": "code",
   "execution_count": 12,
   "metadata": {},
   "outputs": [
    {
     "name": "stdout",
     "output_type": "stream",
     "text": [
      "== Shape World Tests Passed ==\n"
     ]
    }
   ],
   "source": [
    "world = World(grid_size=6, colors=vocabulary.get_semantic_colors(),\n",
    "              object_vocabulary=object_vocabulary,\n",
    "              shapes=vocabulary.get_semantic_shapes(),\n",
    "              save_directory=\"./tmp/\")\n",
    "\n",
    "# try to place an object on to the map\n",
    "world.clear_situation()\n",
    "# world.place_object(Object(size=4, color=\"green\", shape=\"box\"), position=Position(row=3, column=3))\n",
    "world.place_object(Object(size=2, color=\"green\", shape=\"box\"), position=Position(row=2, column=2))\n",
    "world.place_object(Object(size=3, color=\"red\", shape=\"cylinder\"), position=Position(row=2, column=2))\n",
    "\n",
    "# try to place an object on to the map\n",
    "world.clear_situation()\n",
    "# world.place_object(Object(size=4, color=\"green\", shape=\"box\"), position=Position(row=3, column=3))\n",
    "world.place_object(Object(size=3, color=\"red\", shape=\"cylinder\"), position=Position(row=2, column=2))\n",
    "world.place_object(Object(size=2, color=\"green\", shape=\"box\"), position=Position(row=2, column=2))\n",
    "\n",
    "world.clear_situation()\n",
    "# world.place_object(Object(size=4, color=\"green\", shape=\"box\"), position=Position(row=3, column=3))\n",
    "world.place_object(Object(size=2, color=\"green\", shape=\"box\"), position=Position(row=2, column=2))\n",
    "world.place_object(Object(size=3, color=\"red\", shape=\"cylinder\"), position=Position(row=2, column=3))\n",
    "world.place_agent_at(Position(row=2, column=2))\n",
    "\n",
    "# try to place an object on to the map\n",
    "world.clear_situation()\n",
    "world.place_object(Object(size=2, color=\"green\", shape=\"box\"), position=Position(row=2, column=2))\n",
    "world.place_object(Object(size=3, color=\"red\", shape=\"cylinder\"), position=Position(row=3, column=2))\n",
    "world.place_agent_at(Position(row=2, column=2))\n",
    "assert len(world.get_current_situation().placed_objects) == 2\n",
    "\n",
    "print(\"== Shape World Tests Passed ==\")"
   ]
  },
  {
   "cell_type": "markdown",
   "metadata": {},
   "source": [
    "Simulator"
   ]
  },
  {
   "cell_type": "code",
   "execution_count": 8,
   "metadata": {},
   "outputs": [],
   "source": [
    "simulator = Simulator(\n",
    "    object_vocabulary, vocabulary, \n",
    "    grid_size=6, \n",
    "    n_object_max=10,\n",
    ")"
   ]
  },
  {
   "cell_type": "code",
   "execution_count": 18,
   "metadata": {},
   "outputs": [
    {
     "name": "stdout",
     "output_type": "stream",
     "text": [
      "== Simulator Tests Passed ==\n"
     ]
    }
   ],
   "source": [
    "assert simulator.grid_size == 6\n",
    "assert simulator.n_object_max == 10\n",
    "\n",
    "sampled_world = simulator.sample_situations_from_grounded_grammer(\n",
    "    copy.deepcopy(grammer_pattern), \n",
    "    copy.deepcopy(obj_pattern_map), \n",
    "    copy.deepcopy(rel_map), \n",
    "    copy.deepcopy(obj_map),\n",
    "    is_plot=False,\n",
    "    include_relation_distractor=False, \n",
    "    include_attribute_distractor=False, \n",
    "    include_isomorphism_distractor=False, \n",
    "    include_random_distractor=False,\n",
    "    full_relation_probability=0.5,\n",
    "    debug=False\n",
    ")\n",
    "\n",
    "assert sampled_world\n",
    "assert \"obj_map\" in sampled_world.keys()\n",
    "assert len(sampled_world[\"obj_map\"]) == 3\n",
    "assert len(sampled_world[\"obj_pattern_map\"]) == 3\n",
    "assert sampled_world[\"n_random_distractor\"] == -1\n",
    "print(\"== Simulator Tests Passed ==\")"
   ]
  },
  {
   "cell_type": "markdown",
   "metadata": {},
   "source": [
    "Relational Graph"
   ]
  }
 ],
 "metadata": {
  "kernelspec": {
   "display_name": "Python 3",
   "language": "python",
   "name": "python3"
  },
  "language_info": {
   "codemirror_mode": {
    "name": "ipython",
    "version": 3
   },
   "file_extension": ".py",
   "mimetype": "text/x-python",
   "name": "python",
   "nbconvert_exporter": "python",
   "pygments_lexer": "ipython3",
   "version": "3.7.3"
  }
 },
 "nbformat": 4,
 "nbformat_minor": 4
}
