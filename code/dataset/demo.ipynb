{
 "cells": [
  {
   "cell_type": "code",
   "execution_count": 3,
   "metadata": {},
   "outputs": [],
   "source": [
    "from collections import namedtuple, OrderedDict\n",
    "import itertools\n",
    "import os\n",
    "import numpy as np\n",
    "from typing import Tuple\n",
    "from typing import List\n",
    "from typing import Dict\n",
    "import random\n",
    "from itertools import product\n",
    "import copy\n",
    "import re\n",
    "import random\n",
    "\n",
    "from utils import one_hot\n",
    "from utils import generate_possible_object_names\n",
    "from utils import numpy_array_to_image\n",
    "\n",
    "from vocabulary import *\n",
    "from object_vocabulary import *\n",
    "from world import *\n",
    "from grammer import *\n",
    "from simulator import *\n",
    "from relation_graph import *\n",
    "\n",
    "from networkx.algorithms import isomorphism\n",
    "from networkx import DiGraph\n",
    "from networkx import line_graph\n",
    "\n",
    "# from generate_ReaSCAN import *"
   ]
  },
  {
   "cell_type": "markdown",
   "metadata": {},
   "source": [
    "### Vocabulary Module"
   ]
  },
  {
   "cell_type": "code",
   "execution_count": 4,
   "metadata": {},
   "outputs": [],
   "source": [
    "# test out the vocabulary\n",
    "intransitive_verbs = [\"walk\"]\n",
    "transitive_verbs = [\"push\", \"pull\"]\n",
    "adverbs = [\"while zigzagging\", \"while spinning\", \"cautiously\", \"hesitantly\"]\n",
    "nouns = [\"circle\", \"cylinder\", \"square\", \"box\"]\n",
    "color_adjectives = [\"red\", \"blue\", \"green\", \"yellow\"]\n",
    "size_adjectives = [\"big\", \"small\"]\n",
    "relative_pronouns = [\"that is\"]\n",
    "relation_clauses = [\"in the same row as\", \n",
    "                    \"in the same column as\", \n",
    "                    \"in the same color as\", \n",
    "                    \"in the same shape as\", \n",
    "                    \"in the same size as\",\n",
    "                    \"inside of\"]\n",
    "vocabulary = Vocabulary.initialize(intransitive_verbs=intransitive_verbs,\n",
    "                                   transitive_verbs=transitive_verbs, adverbs=adverbs, nouns=nouns,\n",
    "                                   color_adjectives=color_adjectives,\n",
    "                                   size_adjectives=size_adjectives, \n",
    "                                   relative_pronouns=relative_pronouns, \n",
    "                                   relation_clauses=relation_clauses)"
   ]
  },
  {
   "cell_type": "code",
   "execution_count": 5,
   "metadata": {},
   "outputs": [],
   "source": [
    "# test out the object vocab\n",
    "min_object_size = 1\n",
    "max_object_size = 4\n",
    "object_vocabulary = ObjectVocabulary(shapes=vocabulary.get_semantic_shapes(),\n",
    "                                     colors=vocabulary.get_semantic_colors(),\n",
    "                                     min_size=min_object_size, max_size=max_object_size)\n",
    "# object_vocabulary.generate_objects()"
   ]
  },
  {
   "cell_type": "markdown",
   "metadata": {},
   "source": [
    "### Situtation Module"
   ]
  },
  {
   "cell_type": "code",
   "execution_count": 6,
   "metadata": {},
   "outputs": [],
   "source": [
    "# test out situation repr\n",
    "TEST_SITUATION_1 = Situation(grid_size=15, agent_position=Position(row=7, column=2), agent_direction=INT_TO_DIR[0],\n",
    "                             target_object=PositionedObject(object=Object(size=2, color='red', shape='circle'),\n",
    "                                                            position=Position(row=10, column=4),\n",
    "                                                            vector=np.array([1, 0, 1])),\n",
    "                             placed_objects=[PositionedObject(object=Object(size=2, color='red', shape='circle'),\n",
    "                                                              position=Position(row=10, column=4),\n",
    "                                                              vector=np.array([1, 0, 1])),\n",
    "                                             PositionedObject(object=Object(size=4, color='green', shape='circle'),\n",
    "                                                              position=Position(row=3, column=12),\n",
    "                                                              vector=np.array([0, 1, 0]))], carrying=None)\n",
    "# TEST_SITUATION_1.to_representation()"
   ]
  },
  {
   "cell_type": "code",
   "execution_count": 7,
   "metadata": {},
   "outputs": [
    {
     "data": {
      "text/plain": [
       "PositionedObject(object=Object(size=4, color='green', shape='box'), position=Position(column=12, row=3), vector=array([0, 1, 0]), overflow=True, overlap=True)"
      ]
     },
     "execution_count": 7,
     "metadata": {},
     "output_type": "execute_result"
    }
   ],
   "source": [
    "# test out our new object definition\n",
    "PositionedObject(object=Object(size=4, color='green', shape='box'),\n",
    "                 position=Position(row=3, column=12),\n",
    "                 vector=np.array([0, 1, 0]), overflow=True, overlap=True)"
   ]
  },
  {
   "cell_type": "markdown",
   "metadata": {},
   "source": [
    "### Grammer"
   ]
  },
  {
   "cell_type": "code",
   "execution_count": 8,
   "metadata": {},
   "outputs": [],
   "source": [
    "# Generating all the core command structs.\n",
    "grammer = Grammer(vocabulary)"
   ]
  },
  {
   "cell_type": "markdown",
   "metadata": {},
   "source": [
    "### World Module with Mini-Gym"
   ]
  },
  {
   "cell_type": "code",
   "execution_count": 9,
   "metadata": {},
   "outputs": [
    {
     "data": {
      "image/png": "[encoded data removed]",
      "text/plain": [
       "<Figure size 432x288 with 1 Axes>"
      ]
     },
     "metadata": {},
     "output_type": "display_data"
    },
    {
     "data": {
      "text/plain": [
       "False"
      ]
     },
     "execution_count": 9,
     "metadata": {},
     "output_type": "execute_result"
    }
   ],
   "source": [
    "# test out the world\n",
    "import matplotlib as plt\n",
    "import matplotlib.pyplot as plt\n",
    "import matplotlib.image as mpimg\n",
    "\n",
    "import os\n",
    "os.environ['QT_QPA_PLATFORM']='offscreen'\n",
    "\n",
    "world = World(grid_size=3, colors=vocabulary.get_semantic_colors(),\n",
    "              object_vocabulary=object_vocabulary,\n",
    "              shapes=vocabulary.get_semantic_shapes(),\n",
    "              save_directory=\"./tmp/\")\n",
    "\n",
    "world.place_object(Object(size=1, color=\"green\", shape=\"circle\"), position=Position(row=1, column=1))\n",
    "# world.place_object(Object(size=2, color=\"red\", shape=\"box\"), position=Position(row=0, column=0))\n",
    "_ = world.render_simple()\n",
    "world.position_taken(position=Position(row=0, column=0), condition=\"box\")\n"
   ]
  },
  {
   "cell_type": "code",
   "execution_count": 10,
   "metadata": {},
   "outputs": [
    {
     "data": {
      "image/png": "[encoded data removed]",
      "text/plain": [
       "<Figure size 432x288 with 1 Axes>"
      ]
     },
     "metadata": {},
     "output_type": "display_data"
    }
   ],
   "source": [
    "world = World(grid_size=6, colors=vocabulary.get_semantic_colors(),\n",
    "              object_vocabulary=object_vocabulary,\n",
    "              shapes=vocabulary.get_semantic_shapes(),\n",
    "              save_directory=\"./tmp/\")\n",
    "\n",
    "# try to place an object on to the map\n",
    "world.clear_situation()\n",
    "# world.place_object(Object(size=4, color=\"green\", shape=\"box\"), position=Position(row=3, column=3))\n",
    "world.place_object(Object(size=2, color=\"green\", shape=\"box\"), position=Position(row=2, column=2))\n",
    "world.place_object(Object(size=2, color=\"green\", shape=\"box\"), position=Position(row=1, column=1))\n",
    "world.place_object(Object(size=3, color=\"red\", shape=\"cylinder\"), position=Position(row=3, column=2))\n",
    "world.place_agent_at(Position(row=5, column=2))\n",
    "\n",
    "_ = world.render_simple()\n",
    "\n",
    "verb = \"push\"\n",
    "adverb = \"cautiously\"\n",
    "\n",
    "# Direct walk.\n",
    "action = \"walk\" # this is definit!\n",
    "primitive_command = vocabulary.translate_word(action)\n",
    "target_position = Position(row=3, column=2)\n",
    "# simulator._world.get_current_situation().to_dict()[\"target_object\"].position\n",
    "world.go_to_position(position=target_position, manner=adverb, primitive_command=primitive_command)\n",
    "\n",
    "# Object actions.\n",
    "if True:\n",
    "    semantic_action = vocabulary.translate_word(verb)\n",
    "    world.move_object_to_wall(action=semantic_action, manner=adverb)\n",
    "target_commands, target_demonstration = world.get_current_observations()"
   ]
  },
  {
   "cell_type": "code",
   "execution_count": 11,
   "metadata": {},
   "outputs": [
    {
     "data": {
      "image/png": "[encoded data removed]",
      "text/plain": [
       "<Figure size 432x288 with 1 Axes>"
      ]
     },
     "metadata": {},
     "output_type": "display_data"
    }
   ],
   "source": [
    "_ = world.render_simple()"
   ]
  },
  {
   "cell_type": "code",
   "execution_count": 12,
   "metadata": {},
   "outputs": [
    {
     "data": {
      "text/plain": [
       "array([0, 0, 1, 0, 0, 1, 0, 0, 1, 0, 0, 0])"
      ]
     },
     "execution_count": 12,
     "metadata": {},
     "output_type": "execute_result"
    }
   ],
   "source": [
    "world.grid.get(2,0).vector_representation"
   ]
  },
  {
   "cell_type": "markdown",
   "metadata": {},
   "source": [
    "### ReaSCAN Grammer Module"
   ]
  },
  {
   "cell_type": "code",
   "execution_count": null,
   "metadata": {},
   "outputs": [],
   "source": [
    "command_structs = []\n",
    "grammer = Grammer(vocabulary)\n",
    "exhaustive_verb_adverb = True\n",
    "# patterns = grammer._sample_grammer_pattern_reascan_train()\n",
    "patterns = ['$OBJ_0']\n",
    "for grammer_pattern in patterns:\n",
    "    print(grammer_pattern)\n",
    "    relations = grammer.sample_object_relation_grammer(\n",
    "    '$OBJ_0', \n",
    "    grammer.build_dependency_graph(grammer_pattern))\n",
    "    for relation in relations:\n",
    "        obj_pattern_map = relation[0]\n",
    "        rel_map = relation[1]\n",
    "        grammer_bindings = grammer.grounding_grammer_with_vocabulary(grammer_pattern, obj_pattern_map, rel_map)\n",
    "        for obj_map in grammer_bindings:\n",
    "            # here, we also sample the verb and adverb bindings!\n",
    "            if exhaustive_verb_adverb:\n",
    "                for adverb in vocabulary.get_adverbs() + [\"\"]:\n",
    "                    for verb in vocabulary.get_transitive_verbs() + vocabulary.get_intransitive_verbs():\n",
    "                        command_struct = {\n",
    "                            \"obj_pattern_map\" : obj_pattern_map,\n",
    "                            \"rel_map\" : rel_map,\n",
    "                            \"obj_map\" : obj_map,\n",
    "                            \"grammer_pattern\" : grammer_pattern,\n",
    "                            \"adverb\" : adverb,\n",
    "                            \"verb\" : verb,\n",
    "                        }\n",
    "                        command_structs += [command_struct]\n",
    "            else:\n",
    "                command_struct = {\n",
    "                    \"obj_pattern_map\" : obj_pattern_map,\n",
    "                    \"rel_map\" : rel_map,\n",
    "                    \"obj_map\" : obj_map,\n",
    "                    \"grammer_pattern\" : grammer_pattern,\n",
    "                    \"adverb\" : random.choice(vocabulary.get_adverbs()),\n",
    "                    \"verb\" : random.choice(vocabulary.get_transitive_verbs() + vocabulary.get_intransitive_verbs()),\n",
    "                }\n",
    "                command_structs += [command_struct]"
   ]
  },
  {
   "cell_type": "code",
   "execution_count": null,
   "metadata": {},
   "outputs": [],
   "source": [
    "def get_command_struct_statistics(\n",
    "    command_structs, run_name=\"ReaSCAN-Awesome\", date=\"2021-05-06\", \n",
    "    split=\"demo\",\n",
    "    compositional_split=False,\n",
    "    n_sample=-1, n_runs=10,\n",
    "    output_dir=\"../../data-files/ReaSCAN-compositional_splits/\",\n",
    "    save_to_disk=True,\n",
    "    wandb=None\n",
    "):\n",
    "    statistics = OrderedDict({\n",
    "        \"run_name\": run_name,\n",
    "        \"date\": date,\n",
    "        \"splits\": split,\n",
    "        \"number_of_these_examples_seen_in_training\": -1 if not compositional_split else 0,\n",
    "        \"number_of_command_structs\": len(command_structs),\n",
    "    })\n",
    "    if n_sample == -1:\n",
    "        n_sample = len(command_structs)\n",
    "    # If we are downsampling, we need to do more runs as well!\n",
    "    random.shuffle(command_structs)\n",
    "    \n",
    "    patterns = set([])\n",
    "    for command_s in command_structs:\n",
    "        patterns.add(command_s[\"grammer_pattern\"])\n",
    "    statistics[\"command_patterns\"] = list(patterns)\n",
    "    \n",
    "    pattern_stats = get_keyword_statistics(command_structs, include_keyword=\"grammer_pattern\")\n",
    "    statistics[\"pattern_stats\"] = pattern_stats\n",
    "    \n",
    "    # verb\n",
    "    verb_stats = get_keyword_statistics(command_structs, include_keyword=\"verb\")\n",
    "    statistics[\"verb_stats\"] = verb_stats\n",
    "    plot_dictionary(\n",
    "        [verb_stats],\n",
    "        title=\"Verbs\",\n",
    "        save_file=os.path.join(output_dir, f\"verb_stats-{split}.png\"),\n",
    "        wandb=wandb,\n",
    "    )\n",
    "    \n",
    "    # adverb\n",
    "    adverb_stats = get_keyword_statistics(command_structs, include_keyword=\"adverb\")\n",
    "    # special handling for adverb for better readabilities\n",
    "    adverb_stats_rebuild = {}\n",
    "    for k, v in adverb_stats.items():\n",
    "        if k == \"\":\n",
    "            adverb_stats_rebuild[\"EMPTY\"] = v\n",
    "        else:\n",
    "            adverb_stats_rebuild[k] = v\n",
    "    statistics[\"adverb_stats\"] = adverb_stats_rebuild\n",
    "    plot_dictionary(\n",
    "        [adverb_stats_rebuild],\n",
    "        title=\"Adverbs\",\n",
    "        save_file=os.path.join(output_dir, f\"adverb_stats-{split}.png\"),\n",
    "        wandb=wandb,\n",
    "    )\n",
    "    \n",
    "    # relation\n",
    "    relation_stats = get_relation_statistics(command_structs)\n",
    "    if len(relation_stats) != 0:\n",
    "        statistics[\"relation_stats\"] = relation_stats\n",
    "        plot_dictionary(\n",
    "            [flatten_dictionary(relation_stats)],\n",
    "            title=\"Relation-Types\",\n",
    "            save_file=os.path.join(output_dir, f\"relation_type_stats-{split}.png\"),\n",
    "            wandb=wandb,\n",
    "        )\n",
    "    \n",
    "    # attribute\n",
    "    nouns = [\"circle\", \"cylinder\", \"square\", \"box\", \"object\"]\n",
    "    n_stats = get_attribute_statistics(command_structs, include_keywords=nouns)\n",
    "    statistics[\"shape_stats\"] = n_stats\n",
    "    plot_dictionary(\n",
    "        [flatten_dictionary(n_stats)],\n",
    "        title=\"Shapes\",\n",
    "        save_file=os.path.join(output_dir, f\"shape_stats-{split}.png\"),\n",
    "        wandb=wandb,\n",
    "    )\n",
    "    \n",
    "    color_adjectives = [\"red\", \"blue\", \"green\", \"yellow\"]\n",
    "    c_stats = get_attribute_statistics(command_structs, include_keywords=color_adjectives)\n",
    "    statistics[\"color_stats\"] = c_stats\n",
    "    plot_dictionary(\n",
    "        [flatten_dictionary(c_stats)],\n",
    "        title=\"Colors\",\n",
    "        save_file=os.path.join(output_dir, f\"color_stats-{split}.png\"),\n",
    "        wandb=wandb,\n",
    "    )\n",
    "\n",
    "    size_adjectives = [\"big\", \"small\"]\n",
    "    s_stats = get_attribute_statistics(command_structs, include_keywords=size_adjectives)\n",
    "    statistics[\"size_stats\"] = s_stats\n",
    "    plot_dictionary(\n",
    "        [flatten_dictionary(s_stats)],\n",
    "        title=\"Sizes\",\n",
    "        save_file=os.path.join(output_dir, f\"size_stats-{split}.png\"),\n",
    "        wandb=wandb,\n",
    "    )\n",
    "    \n",
    "    # second order attribute\n",
    "    color_adjectives = [\"red\", \"blue\", \"green\", \"yellow\"]\n",
    "    nouns = [\"circle\", \"cylinder\", \"square\", \"box\", \"object\"]\n",
    "    c_n_p = product(color_adjectives, nouns)\n",
    "    include_keywords = [\" \".join(c_n) for c_n in c_n_p]\n",
    "    c_n_stats = get_attribute_statistics(command_structs, include_keywords=include_keywords)\n",
    "    statistics[\"color_and_shape_stats\"] = c_n_stats\n",
    "    plot_dictionary(\n",
    "        [flatten_dictionary(c_n_stats)],\n",
    "        title=\"Colors-Shapes\",\n",
    "        save_file=os.path.join(output_dir, f\"color+shape_stats-{split}.png\"),\n",
    "        wandb=wandb,\n",
    "    )\n",
    "\n",
    "    size_adjectives = [\"big\", \"small\"]\n",
    "    nouns = [\"circle\", \"cylinder\", \"square\", \"box\", \"object\"]\n",
    "    s_n_p = product(size_adjectives, nouns)\n",
    "    include_keywords = [\" \".join(s_n) for s_n in s_n_p]\n",
    "    s_n_stats = get_attribute_statistics(command_structs, include_keywords=include_keywords)\n",
    "    statistics[\"size_and_shape_stats\"] = s_n_stats\n",
    "    plot_dictionary(\n",
    "        [flatten_dictionary(s_n_stats)],\n",
    "        title=\"Sizes-Shapes\",\n",
    "        save_file=os.path.join(output_dir, f\"size+shape_stats-{split}.png\"),\n",
    "        wandb=wandb,\n",
    "    )\n",
    "    \n",
    "    # third order attribute\n",
    "    size_adjectives = [\"big\", \"small\"]\n",
    "    color_adjectives = [\"red\", \"blue\", \"green\", \"yellow\"]\n",
    "    nouns = [\"circle\", \"cylinder\", \"square\", \"box\", \"object\"]\n",
    "    all_p = product(size_adjectives, color_adjectives, nouns)\n",
    "    include_keywords = [\" \".join(a) for a in all_p]\n",
    "    all_stats = get_attribute_statistics(command_structs, include_keywords=include_keywords)\n",
    "    statistics[\"size_and_color_and_shape_stats\"] = all_stats\n",
    "    \n",
    "    if save_to_disk:\n",
    "        import yaml\n",
    "        with open(os.path.join(output_dir, f\"command_struct_only_stats-{split}.yml\"), 'w') as yaml_file:\n",
    "            yaml.dump(statistics, yaml_file, default_flow_style=False)\n",
    "    \n",
    "    return statistics"
   ]
  },
  {
   "cell_type": "code",
   "execution_count": null,
   "metadata": {},
   "outputs": [],
   "source": [
    "get_command_struct_statistics(\n",
    "    command_structs, run_name=\"ReaSCAN-Awesome\", date=\"2021-05-16\", \n",
    "    split=\"demo\",\n",
    "    compositional_split=False,\n",
    "    n_sample=-1, n_runs=10,\n",
    "    output_dir=\"../../data-files/ReaSCAN-demo/\",\n",
    "    save_to_disk=True,\n",
    "    wandb=None\n",
    ")"
   ]
  },
  {
   "cell_type": "markdown",
   "metadata": {},
   "source": [
    "### ReaSCAN Simulator"
   ]
  },
  {
   "cell_type": "code",
   "execution_count": null,
   "metadata": {},
   "outputs": [],
   "source": [
    "simulator = Simulator(\n",
    "    object_vocabulary, vocabulary, \n",
    "    grid_size=6, \n",
    "    n_object_max=10,\n",
    ")"
   ]
  },
  {
   "cell_type": "code",
   "execution_count": null,
   "metadata": {},
   "outputs": [],
   "source": [
    "obj_pattern_map = {'$OBJ_0': '$ABS_SHAPE', '$OBJ_1': '$SHAPE', '$OBJ_2': '$SHAPE'}\n",
    "rel_map = {('$OBJ_0', '$OBJ_1'): '$SAME_SHAPE', ('$OBJ_0', '$OBJ_2'): '$IS_INSIDE'}\n",
    "obj_map = {'$OBJ_0': 'object', '$OBJ_1': 'circle', '$OBJ_2': 'box'}\n",
    "grammer_pattern = '$OBJ_0 ^ $OBJ_1 & $OBJ_2'\n",
    "verb = \"push\"\n",
    "adverb = \"slowly\"\n",
    "sampled_world = simulator.sample_situations_from_grounded_grammer(\n",
    "    copy.deepcopy(grammer_pattern), \n",
    "    copy.deepcopy(obj_pattern_map), \n",
    "    copy.deepcopy(rel_map), \n",
    "    copy.deepcopy(obj_map),\n",
    "    is_plot=True,\n",
    "    include_relation_distractor=False, \n",
    "    include_attribute_distractor=False, \n",
    "    include_isomorphism_distractor=False, \n",
    "    include_random_distractor=False,\n",
    "    full_relation_probability=0.5,\n",
    "    debug=False\n",
    ")"
   ]
  },
  {
   "cell_type": "code",
   "execution_count": null,
   "metadata": {},
   "outputs": [],
   "source": [
    "is_transitive = False\n",
    "if verb in simulator.vocabulary.get_transitive_verbs():\n",
    "    is_transitive = True\n",
    "\n",
    "# Direct walk.\n",
    "action = \"walk\" # this is definit!\n",
    "primitive_command = simulator.vocabulary.translate_word(action)\n",
    "target_position = sampled_world[\"situation\"].target_object.position\n",
    "\n",
    "simulator._world.go_to_position(position=target_position, manner=adverb, primitive_command=primitive_command)\n",
    "\n",
    "# Object actions.\n",
    "if is_transitive:\n",
    "    semantic_action = simulator.vocabulary.translate_word(verb)\n",
    "    simulator._world.move_object_to_wall(action=semantic_action, manner=adverb)\n",
    "target_commands, target_demonstration = simulator._world.get_current_observations()"
   ]
  },
  {
   "cell_type": "code",
   "execution_count": null,
   "metadata": {},
   "outputs": [],
   "source": [
    "target_commands"
   ]
  },
  {
   "cell_type": "markdown",
   "metadata": {},
   "source": [
    "### End-to-end Task Generation"
   ]
  },
  {
   "cell_type": "code",
   "execution_count": null,
   "metadata": {},
   "outputs": [],
   "source": [
    "# Simulator robustness tests.\n",
    "random.shuffle(command_structs)\n",
    "simulator = Simulator(\n",
    "    object_vocabulary, vocabulary, \n",
    "    grid_size=6, \n",
    "    n_object_max=10,\n",
    ")\n",
    "count = 0\n",
    "special_count = 0\n",
    "minor_count = 0\n",
    "for test_struct in command_structs[:10000]:\n",
    "    count += 1\n",
    "    if count%1000==0:\n",
    "        print(f\"passing rate = {count}/{10000}\")\n",
    "    obj_pattern_map = test_struct[\"obj_pattern_map\"]\n",
    "    rel_map = test_struct[\"rel_map\"]\n",
    "    obj_map = test_struct[\"obj_map\"]\n",
    "    grammer_pattern = test_struct[\"grammer_pattern\"]\n",
    "    verb = test_struct[\"verb\"]\n",
    "    adverb = test_struct[\"adverb\"]\n",
    "\n",
    "    test_unique_find = 0\n",
    "    for i in range(20):\n",
    "        minor_count += 1\n",
    "        sampled_world = simulator.sample_situations_from_grounded_grammer(\n",
    "            copy.deepcopy(grammer_pattern), \n",
    "            copy.deepcopy(obj_pattern_map), \n",
    "            copy.deepcopy(rel_map), \n",
    "            copy.deepcopy(obj_map),\n",
    "            is_plot=False,\n",
    "            include_relation_distractor=True, \n",
    "            include_attribute_distractor=True, \n",
    "            include_isomorphism_distractor=False, \n",
    "            include_random_distractor=True,\n",
    "            full_relation_probability=0.5, # 0.5 seems to work as well!\n",
    "            debug=False\n",
    "        )\n",
    "#         if len(sampled_world[\"distractor_switch_map\"]['relation']) == 2 and \\\n",
    "#             sampled_world[\"distractor_switch_map\"]['relation'][0] == True and \\\n",
    "#             sampled_world[\"distractor_switch_map\"]['relation'][0] == True:\n",
    "#             special_count += 1\n",
    "#             print(f\"{special_count}/{minor_count}\")\n",
    "        assert len(sampled_world['obj_map']) == len(simulator._world.get_current_situation().to_representation()[\"placed_objects\"])\n"
   ]
  },
  {
   "cell_type": "code",
   "execution_count": 17,
   "metadata": {},
   "outputs": [],
   "source": [
    "grammer_pattern = '$OBJ_0 ^ $OBJ_1 & $OBJ_2'\n",
    "command_structs = []\n",
    "# Sampling relations\n",
    "relations = grammer.sample_object_relation_grammer(\n",
    "    '$OBJ_0', \n",
    "    grammer.build_dependency_graph(grammer_pattern))\n",
    "for relation in relations:\n",
    "    obj_pattern_map = relation[0]\n",
    "    rel_map = relation[1]\n",
    "    grammer_bindings = grammer.grounding_grammer_with_vocabulary(grammer_pattern, obj_pattern_map, rel_map)\n",
    "    for obj_map in grammer_bindings:\n",
    "        # here, we also sample the verb and adverb bindings!\n",
    "        adverb_enhance_list = vocabulary.get_adverbs()\n",
    "        adverb_enhance_list += [\"\"]\n",
    "        command_struct = {\n",
    "            \"obj_pattern_map\" : obj_pattern_map,\n",
    "            \"rel_map\" : rel_map,\n",
    "            \"obj_map\" : obj_map,\n",
    "            \"grammer_pattern\" : grammer_pattern,\n",
    "            \"adverb\" : random.choice(adverb_enhance_list),\n",
    "            \"verb\" : random.choice(vocabulary.get_transitive_verbs() + vocabulary.get_intransitive_verbs()),\n",
    "        }\n",
    "        command_structs += [command_struct]"
   ]
  },
  {
   "cell_type": "code",
   "execution_count": 18,
   "metadata": {},
   "outputs": [
    {
     "data": {
      "text/plain": [
       "{'obj_pattern_map': {'$OBJ_0': '$SHAPE',\n",
       "  '$OBJ_1': '$COLOR $SHAPE',\n",
       "  '$OBJ_2': '$COLOR $SHAPE'},\n",
       " 'rel_map': OrderedDict([(('$OBJ_0', '$OBJ_1'), '$SAME_ROW'),\n",
       "              (('$OBJ_0', '$OBJ_2'), '$SAME_COLUMN')]),\n",
       " 'obj_map': {'$OBJ_0': 'circle',\n",
       "  '$OBJ_1': 'red cylinder',\n",
       "  '$OBJ_2': 'red square'},\n",
       " 'grammer_pattern': '$OBJ_0 ^ $OBJ_1 & $OBJ_2',\n",
       " 'adverb': 'while zigzagging',\n",
       " 'verb': 'walk'}"
      ]
     },
     "execution_count": 18,
     "metadata": {},
     "output_type": "execute_result"
    }
   ],
   "source": [
    "command_structs[0]"
   ]
  },
  {
   "cell_type": "code",
   "execution_count": 27,
   "metadata": {},
   "outputs": [
    {
     "name": "stdout",
     "output_type": "stream",
     "text": [
      "1 / 2 unique solution find!\n"
     ]
    },
    {
     "data": {
      "image/png": "[encoded data removed]",
      "text/plain": [
       "<Figure size 432x288 with 1 Axes>"
      ]
     },
     "metadata": {},
     "output_type": "display_data"
    },
    {
     "name": "stdout",
     "output_type": "stream",
     "text": [
      "walk to the square that is in the same column as a blue cylinder and in the same row as a small red circle while spinning\n",
      "['turn left', 'turn left', 'turn left', 'turn left', 'turn left', 'turn left', 'walk', 'turn left', 'turn left', 'turn left', 'turn left', 'walk', 'turn left', 'turn left', 'turn left', 'turn left', 'walk', 'turn left', 'turn left', 'turn left', 'turn left', 'walk']\n",
      "{'obj_map': OrderedDict([('$OBJ_0', Object(size=2, color='red', shape='square')), ('$OBJ_1', Object(size=2, color='blue', shape='cylinder')), ('$OBJ_2', Object(size=2, color='red', shape='circle')), ('$OBJ_3', Object(size=2, color='red', shape='square')), ('$OBJ_4', Object(size=2, color='red', shape='circle')), ('$OBJ_5', Object(size=2, color='green', shape='square')), ('$OBJ_6', Object(size=2, color='blue', shape='cylinder')), ('$OBJ_7', Object(size=2, color='yellow', shape='square')), ('$OBJ_8', Object(size=2, color='blue', shape='square')), ('$OBJ_9', Object(size=2, color='red', shape='circle')), ('$OBJ_10', Object(size=3, color='red', shape='circle')), ('$OBJ_11', Object(size=3, color='blue', shape='square')), ('$OBJ_12', Object(size=2, color='blue', shape='circle')), ('$OBJ_13', Object(size=3, color='red', shape='cylinder'))]), 'pos_map': OrderedDict([('$OBJ_0', Position(column=1, row=2)), ('$OBJ_1', Position(column=1, row=0)), ('$OBJ_2', Position(column=0, row=2)), ('$OBJ_3', Position(column=2, row=5)), ('$OBJ_4', Position(column=0, row=5)), ('$OBJ_5', Position(column=0, row=3)), ('$OBJ_6', Position(column=0, row=0)), ('$OBJ_7', Position(column=4, row=4)), ('$OBJ_8', Position(column=4, row=0)), ('$OBJ_9', Position(column=0, row=4)), ('$OBJ_10', Position(column=2, row=2)), ('$OBJ_11', Position(column=3, row=4)), ('$OBJ_12', Position(column=3, row=0)), ('$OBJ_13', Position(column=1, row=4))]), 'obj_pattern_map': {'$OBJ_0': '$SHAPE', '$OBJ_1': '$COLOR $SHAPE', '$OBJ_2': '$SIZE $COLOR $SHAPE'}, 'referred_obj': '$OBJ_0', 'situation': <world.Situation object at 0x7f4f6439f350>, 'distractor_switch_map': OrderedDict([('relation', [True, True]), ('attribute', True), ('isomorphism', True), ('random', False)]), 'relation_distractor_metadata': [{'distractor_metadata': {'edge': ('$OBJ_0', '$OBJ_1'), 'relation_old_type': '$SAME_COLUMN', 'full_set': True}}, {'distractor_metadata': {'edge': ('$OBJ_0', '$OBJ_2'), 'relation_old_type': '$SAME_ROW', 'full_set': True}}], 'attribute_distractor_metadata': [{'distractor_metadata': [{'modified_obj': '$OBJ_1', 'modified_attribute': '$SHAPE'}]}], 'isomorphism_distractor_metadata': [{'distractor_metadata': [{'swapped_pair': ('$OBJ_1', '$OBJ_2'), 'before_pair_obj_str': ('blue cylinder', 'small red circle'), 'after_pair_obj_str': ('small blue circle', 'red cylinder'), 'size_shuffled': True, 'color_shuffled': False, 'shape_shuffled': True}]}], 'random_distractor_metadata': [{}], 'n_random_distractor': -1}\n"
     ]
    }
   ],
   "source": [
    "# P1\n",
    "# test_struct = {'obj_pattern_map': {'$OBJ_0': '$SHAPE'},\n",
    "#  'rel_map': OrderedDict({}),\n",
    "#  'obj_map': {'$OBJ_0': 'cylinder'},\n",
    "#  'grammer_pattern': '$OBJ_0',\n",
    "#  'adverb': 'cautiously',\n",
    "#  'verb': 'pull'}\n",
    "\n",
    "# P2\n",
    "# test_struct = {'obj_pattern_map': {'$OBJ_0': '$SIZE $SHAPE', \n",
    "#                                    '$OBJ_1': '$COLOR $SHAPE'},\n",
    "#  'rel_map': OrderedDict({(('$OBJ_0', '$OBJ_1'), '$SAME_ROW')}),\n",
    "#  'obj_map': {'$OBJ_0': 'small square', \n",
    "#              '$OBJ_1': 'yellow cylinder'},\n",
    "#  'grammer_pattern': '$OBJ_0 ^ $OBJ_1',\n",
    "#  'adverb': 'hesitantly',\n",
    "#  'verb': 'push'}\n",
    "\n",
    "# P3\n",
    "test_struct = {'obj_pattern_map': {'$OBJ_0': '$SHAPE',\n",
    "  '$OBJ_1': '$COLOR $SHAPE',\n",
    "  '$OBJ_2': '$SIZE $COLOR $SHAPE'},\n",
    " 'rel_map': OrderedDict([(('$OBJ_0', '$OBJ_1'), '$SAME_COLUMN'),\n",
    "              (('$OBJ_0', '$OBJ_2'), '$SAME_ROW')]),\n",
    " 'obj_map': {'$OBJ_0': 'square',\n",
    "  '$OBJ_1': 'blue cylinder',\n",
    "  '$OBJ_2': 'small red circle'},\n",
    " 'grammer_pattern': '$OBJ_0 ^ $OBJ_1 & $OBJ_2',\n",
    " 'adverb': 'while spinning',\n",
    " 'verb': 'walk'}\n",
    "\n",
    "\n",
    "simulator = Simulator(\n",
    "    object_vocabulary, vocabulary, \n",
    "    grid_size=6, \n",
    "    n_object_max=13,\n",
    ")\n",
    "\n",
    "obj_pattern_map = test_struct[\"obj_pattern_map\"]\n",
    "rel_map = test_struct[\"rel_map\"]\n",
    "obj_map = test_struct[\"obj_map\"]\n",
    "grammer_pattern = test_struct[\"grammer_pattern\"]\n",
    "verb = test_struct[\"verb\"]\n",
    "adverb = test_struct[\"adverb\"]\n",
    "\n",
    "test_unique_find = 0\n",
    "for i in range(1000):\n",
    "    sampled_world = simulator.sample_situations_from_grounded_grammer(\n",
    "            copy.deepcopy(grammer_pattern), \n",
    "            copy.deepcopy(obj_pattern_map), \n",
    "            copy.deepcopy(rel_map), \n",
    "            copy.deepcopy(obj_map),\n",
    "            is_plot=False,\n",
    "            include_relation_distractor=True, \n",
    "            include_attribute_distractor=True, \n",
    "            include_isomorphism_distractor=True, \n",
    "            include_random_distractor=True,\n",
    "            full_relation_probability=1.0, # 0.5 seems to work as well!\n",
    "            debug=False\n",
    "        )\n",
    "\n",
    "    assert len(sampled_world['obj_map']) == len(simulator._world.get_current_situation().to_representation()[\"placed_objects\"])\n",
    "    \n",
    "    graph = ReaSCANGraph(\n",
    "        objects=sampled_world[\"obj_map\"], \n",
    "        object_patterns=sampled_world[\"obj_pattern_map\"], \n",
    "        vocabulary=vocabulary,\n",
    "        positions=sampled_world[\"pos_map\"], \n",
    "        referred_object=sampled_world[\"referred_obj\"],\n",
    "        debug=False\n",
    "    )\n",
    "    \n",
    "    pattern_graph = ReaSCANGraph(\n",
    "        objects=obj_map, \n",
    "        object_patterns=None,\n",
    "        vocabulary=vocabulary,\n",
    "        relations=rel_map, \n",
    "        referred_object='$OBJ_0', \n",
    "        debug=False\n",
    "    )\n",
    "    \n",
    "    potential_referent_target = graph.find_referred_object_super_fast(\n",
    "        pattern_graph, referred_object='$OBJ_0', \n",
    "        debug=False\n",
    "    )\n",
    "\n",
    "    if len(potential_referent_target) == 1:\n",
    "        test_unique_find += 1\n",
    "        print(f\"{test_unique_find} / {i+1} unique solution find!\")\n",
    "        \n",
    "        # graph.draw(save_file=\"../../data-files-updated/Analysis-Result/graph-example.png\")\n",
    "        # pattern_graph.draw(save_file=\"../../data-files-updated/Analysis-Result/subgraph-example.png\")\n",
    "        _ = simulator._world.render_simple()\n",
    "        \n",
    "        # Form the command with grounded determiners!\n",
    "        obj_determiner_map = graph.find_determiners(\n",
    "            pattern_graph, \n",
    "            referred_object='$OBJ_0', \n",
    "            debug=False,\n",
    "        )\n",
    "        command_str = grammer.repre_str_command(\n",
    "            grammer_pattern, rel_map, obj_map, \n",
    "            obj_determiner_map, \n",
    "            verb,\n",
    "            adverb,\n",
    "        )\n",
    "        \n",
    "        # Form the golden label for the action list!\n",
    "        is_transitive = False\n",
    "        if verb in simulator.vocabulary.get_transitive_verbs():\n",
    "            is_transitive = True\n",
    "        # Direct walk.\n",
    "        action = \"walk\" # this is definit!\n",
    "        primitive_command = simulator.vocabulary.translate_word(action)\n",
    "        target_position = sampled_world[\"situation\"].target_object.position\n",
    "        simulator._world.go_to_position(\n",
    "            position=target_position, manner=adverb, \n",
    "            primitive_command=primitive_command\n",
    "        )\n",
    "        # Object actions.\n",
    "        if is_transitive:\n",
    "            semantic_action = simulator.vocabulary.translate_word(verb)\n",
    "            simulator._world.move_object_to_wall(action=semantic_action, manner=adverb)\n",
    "        target_commands, _ = simulator._world.get_current_observations()\n",
    "        \n",
    "        print(command_str)\n",
    "        print(target_commands)\n",
    "        \n",
    "        print(sampled_world)\n",
    "        \n",
    "        break\n"
   ]
  },
  {
   "cell_type": "code",
   "execution_count": 23,
   "metadata": {},
   "outputs": [
    {
     "data": {
      "text/plain": [
       "{'obj_map': OrderedDict([('$OBJ_0',\n",
       "               Object(size=1, color='blue', shape='square')),\n",
       "              ('$OBJ_1', Object(size=1, color='yellow', shape='box')),\n",
       "              ('$OBJ_2', Object(size=3, color='blue', shape='square')),\n",
       "              ('$OBJ_3', Object(size=1, color='yellow', shape='box')),\n",
       "              ('$OBJ_4', Object(size=4, color='red', shape='cylinder')),\n",
       "              ('$OBJ_5', Object(size=1, color='blue', shape='circle')),\n",
       "              ('$OBJ_6', Object(size=3, color='green', shape='circle')),\n",
       "              ('$OBJ_7', Object(size=2, color='green', shape='circle')),\n",
       "              ('$OBJ_8', Object(size=1, color='yellow', shape='cylinder')),\n",
       "              ('$OBJ_9', Object(size=3, color='green', shape='square')),\n",
       "              ('$OBJ_10', Object(size=4, color='blue', shape='circle')),\n",
       "              ('$OBJ_11', Object(size=1, color='green', shape='square')),\n",
       "              ('$OBJ_12', Object(size=2, color='green', shape='circle'))]),\n",
       " 'pos_map': OrderedDict([('$OBJ_0', Position(column=5, row=4)),\n",
       "              ('$OBJ_1', Position(column=0, row=4)),\n",
       "              ('$OBJ_2', Position(column=1, row=5)),\n",
       "              ('$OBJ_3', Position(column=0, row=5)),\n",
       "              ('$OBJ_4', Position(column=2, row=1)),\n",
       "              ('$OBJ_5', Position(column=0, row=3)),\n",
       "              ('$OBJ_6', Position(column=1, row=0)),\n",
       "              ('$OBJ_7', Position(column=4, row=0)),\n",
       "              ('$OBJ_8', Position(column=0, row=2)),\n",
       "              ('$OBJ_9', Position(column=5, row=3)),\n",
       "              ('$OBJ_10', Position(column=0, row=4)),\n",
       "              ('$OBJ_11', Position(column=1, row=2)),\n",
       "              ('$OBJ_12', Position(column=4, row=2))]),\n",
       " 'obj_pattern_map': {'$OBJ_0': '$SIZE $SHAPE', '$OBJ_1': '$COLOR $SHAPE'},\n",
       " 'referred_obj': '$OBJ_0',\n",
       " 'situation': <world.Situation at 0x7f6d8b0f9950>,\n",
       " 'distractor_switch_map': OrderedDict([('relation', []),\n",
       "              ('attribute', True),\n",
       "              ('isomorphism', False),\n",
       "              ('random', True)]),\n",
       " 'relation_distractor_metadata': [],\n",
       " 'attribute_distractor_metadata': [{'distractor_metadata': [{'modified_obj': '$OBJ_0',\n",
       "     'modified_attribute': '$SIZE'}]}],\n",
       " 'isomorphism_distractor_metadata': [],\n",
       " 'random_distractor_metadata': [{'$OBJ_4': ' red cylinder',\n",
       "   '$OBJ_5': ' blue circle',\n",
       "   '$OBJ_6': ' green circle',\n",
       "   '$OBJ_7': ' green circle',\n",
       "   '$OBJ_8': ' yellow cylinder',\n",
       "   '$OBJ_9': 'big green square',\n",
       "   '$OBJ_10': ' blue circle',\n",
       "   '$OBJ_11': 'small green square',\n",
       "   '$OBJ_12': ' green circle'}],\n",
       " 'n_random_distractor': 9}"
      ]
     },
     "execution_count": 23,
     "metadata": {},
     "output_type": "execute_result"
    }
   ],
   "source": [
    "sampled_world"
   ]
  },
  {
   "cell_type": "code",
   "execution_count": null,
   "metadata": {},
   "outputs": [],
   "source": []
  }
 ],
 "metadata": {
  "kernelspec": {
   "display_name": "Python 3",
   "language": "python",
   "name": "python3"
  },
  "language_info": {
   "codemirror_mode": {
    "name": "ipython",
    "version": 3
   },
   "file_extension": ".py",
   "mimetype": "text/x-python",
   "name": "python",
   "nbconvert_exporter": "python",
   "pygments_lexer": "ipython3",
   "version": "3.7.6"
  }
 },
 "nbformat": 4,
 "nbformat_minor": 4
}
