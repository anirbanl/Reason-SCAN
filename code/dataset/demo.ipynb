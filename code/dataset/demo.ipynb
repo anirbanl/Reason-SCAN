{
 "cells": [
  {
   "cell_type": "code",
   "execution_count": 1,
   "metadata": {},
   "outputs": [],
   "source": [
    "######################################################\n",
    "#\n",
    "# ReaSCAN: on the mission for AGI with language.\n",
    "#\n",
    "# Author: Zhengxuan Wu (wuzhengx@stanford.edu)\n",
    "#\n",
    "# Descriptions:\n",
    "# This script is used as initial plannings for the \n",
    "# ReaSCAN engine. It illustrate how to integrate different\n",
    "# parts together, such as Mini-Grid gym etc..\n",
    "#\n",
    "# Notes:\n",
    "# 1. We will leverage gSCAN core engines but with extensive \n",
    "# modifications for ReaSCAN. This ensures fairness of \n",
    "# comparisions.\n",
    "######################################################"
   ]
  },
  {
   "cell_type": "code",
   "execution_count": 2,
   "metadata": {},
   "outputs": [],
   "source": [
    "from collections import namedtuple, OrderedDict\n",
    "import itertools\n",
    "import os\n",
    "import numpy as np\n",
    "from typing import Tuple\n",
    "from typing import List\n",
    "from typing import Dict\n",
    "import random\n",
    "from itertools import product\n",
    "import copy\n",
    "import re\n",
    "import random\n",
    "\n",
    "from utils import one_hot\n",
    "from utils import generate_possible_object_names\n",
    "from utils import numpy_array_to_image\n",
    "\n",
    "from vocabulary import *\n",
    "from object_vocabulary import *\n",
    "from world import *\n",
    "from grammer import *\n",
    "from simulator import *"
   ]
  },
  {
   "cell_type": "markdown",
   "metadata": {},
   "source": [
    "### Vocabulary Module"
   ]
  },
  {
   "cell_type": "code",
   "execution_count": 3,
   "metadata": {},
   "outputs": [],
   "source": [
    "# test out the vocabulary\n",
    "intransitive_verbs = [\"walk\"]\n",
    "transitive_verbs = [\"push\", \"pull\"]\n",
    "adverbs = [\"quickly\", \"slowly\", \"while zigzagging\", \"while spinning\", \"cautiously\", \"hesitantly\"]\n",
    "nouns = [\"circle\", \"cylinder\", \"square\", \"box\"]\n",
    "color_adjectives = [\"red\", \"blue\", \"green\", \"yellow\"]\n",
    "size_adjectives = [\"big\", \"small\"]\n",
    "relative_pronouns = [\"that is\"]\n",
    "relation_clauses = [\"in the same row as\", \n",
    "                    \"in the same column as\", \n",
    "                    \"in the same color as\", \n",
    "                    \"in the same shape as\", \n",
    "                    \"in the same size as\",\n",
    "                    \"inside of\"]\n",
    "vocabulary = Vocabulary.initialize(intransitive_verbs=intransitive_verbs,\n",
    "                                   transitive_verbs=transitive_verbs, adverbs=adverbs, nouns=nouns,\n",
    "                                   color_adjectives=color_adjectives,\n",
    "                                   size_adjectives=size_adjectives, \n",
    "                                   relative_pronouns=relative_pronouns, \n",
    "                                   relation_clauses=relation_clauses)"
   ]
  },
  {
   "cell_type": "code",
   "execution_count": 4,
   "metadata": {},
   "outputs": [],
   "source": [
    "# test out the object vocab\n",
    "min_object_size = 1\n",
    "max_object_size = 4\n",
    "object_vocabulary = ObjectVocabulary(shapes=vocabulary.get_semantic_shapes(),\n",
    "                                     colors=vocabulary.get_semantic_colors(),\n",
    "                                     min_size=min_object_size, max_size=max_object_size)\n",
    "# object_vocabulary.generate_objects()"
   ]
  },
  {
   "cell_type": "markdown",
   "metadata": {},
   "source": [
    "### Situtation Module"
   ]
  },
  {
   "cell_type": "code",
   "execution_count": 5,
   "metadata": {},
   "outputs": [],
   "source": [
    "# test out situation repr\n",
    "TEST_SITUATION_1 = Situation(grid_size=15, agent_position=Position(row=7, column=2), agent_direction=INT_TO_DIR[0],\n",
    "                             target_object=PositionedObject(object=Object(size=2, color='red', shape='circle'),\n",
    "                                                            position=Position(row=10, column=4),\n",
    "                                                            vector=np.array([1, 0, 1])),\n",
    "                             placed_objects=[PositionedObject(object=Object(size=2, color='red', shape='circle'),\n",
    "                                                              position=Position(row=10, column=4),\n",
    "                                                              vector=np.array([1, 0, 1])),\n",
    "                                             PositionedObject(object=Object(size=4, color='green', shape='circle'),\n",
    "                                                              position=Position(row=3, column=12),\n",
    "                                                              vector=np.array([0, 1, 0]))], carrying=None)\n",
    "# TEST_SITUATION_1.to_representation()"
   ]
  },
  {
   "cell_type": "code",
   "execution_count": 6,
   "metadata": {},
   "outputs": [
    {
     "data": {
      "text/plain": [
       "PositionedObject(object=Object(size=4, color='green', shape='box'), position=Position(column=12, row=3), vector=array([0, 1, 0]), overflow=True, overlap=True)"
      ]
     },
     "execution_count": 6,
     "metadata": {},
     "output_type": "execute_result"
    }
   ],
   "source": [
    "# test out our new object definition\n",
    "PositionedObject(object=Object(size=4, color='green', shape='box'),\n",
    "                 position=Position(row=3, column=12),\n",
    "                 vector=np.array([0, 1, 0]), overflow=True, overlap=True)"
   ]
  },
  {
   "cell_type": "markdown",
   "metadata": {},
   "source": [
    "### World Module with Mini-Gym"
   ]
  },
  {
   "cell_type": "code",
   "execution_count": 7,
   "metadata": {},
   "outputs": [
    {
     "data": {
      "image/png": "[encoded data removed]",
      "text/plain": [
       "<Figure size 432x288 with 1 Axes>"
      ]
     },
     "metadata": {},
     "output_type": "display_data"
    }
   ],
   "source": [
    "# test out the world\n",
    "import matplotlib as plt\n",
    "import matplotlib.pyplot as plt\n",
    "import matplotlib.image as mpimg\n",
    "\n",
    "import os\n",
    "os.environ['QT_QPA_PLATFORM']='offscreen'\n",
    "world = World(grid_size=10, colors=vocabulary.get_semantic_colors(),\n",
    "              object_vocabulary=object_vocabulary,\n",
    "              shapes=vocabulary.get_semantic_shapes(),\n",
    "              save_directory=\"./tmp/\")\n",
    "world_rgb = world.render_simple()"
   ]
  },
  {
   "cell_type": "code",
   "execution_count": 8,
   "metadata": {},
   "outputs": [
    {
     "data": {
      "image/png": "[encoded data removed]",
      "text/plain": [
       "<Figure size 432x288 with 1 Axes>"
      ]
     },
     "metadata": {},
     "output_type": "display_data"
    }
   ],
   "source": [
    "# try to place an object on to the map\n",
    "world.clear_situation()\n",
    "# world.place_object(Object(size=4, color=\"green\", shape=\"box\"), position=Position(row=3, column=3))\n",
    "world.place_object(Object(size=2, color=\"green\", shape=\"box\"), position=Position(row=2, column=2))\n",
    "world.place_object(Object(size=3, color=\"red\", shape=\"cylinder\"), position=Position(row=5, column=5))\n",
    "_ = world.render_simple()"
   ]
  },
  {
   "cell_type": "markdown",
   "metadata": {},
   "source": [
    "### ReaSCAN Grammer Module"
   ]
  },
  {
   "cell_type": "code",
   "execution_count": 9,
   "metadata": {},
   "outputs": [],
   "source": [
    "grammer = Grammer(vocabulary)"
   ]
  },
  {
   "cell_type": "code",
   "execution_count": 10,
   "metadata": {},
   "outputs": [
    {
     "data": {
      "text/plain": [
       "OrderedDict([('$OBJ_0', ['$OBJ_1', '$OBJ_2']),\n",
       "             ('$OBJ_2', ['$OBJ_3', '$OBJ_4'])])"
      ]
     },
     "execution_count": 10,
     "metadata": {},
     "output_type": "execute_result"
    }
   ],
   "source": [
    "grammer.build_dependency_graph('$OBJ_0 ^ $OBJ_1 & $OBJ_2 ^ $OBJ_3 & $OBJ_4')"
   ]
  },
  {
   "cell_type": "code",
   "execution_count": 11,
   "metadata": {},
   "outputs": [
    {
     "data": {
      "text/plain": [
       "[({'$OBJ_0': '$SHAPE', '$OBJ_1': '$SHAPE', '$OBJ_2': '$SHAPE'},\n",
       "  OrderedDict([(('$OBJ_0', '$OBJ_1'), '$SAME_ROW'),\n",
       "               (('$OBJ_0', '$OBJ_2'), '$SAME_COLUMN')])),\n",
       " ({'$OBJ_0': '$SHAPE', '$OBJ_1': '$SHAPE', '$OBJ_2': '$SHAPE'},\n",
       "  OrderedDict([(('$OBJ_0', '$OBJ_1'), '$SAME_ROW'),\n",
       "               (('$OBJ_0', '$OBJ_2'), '$IS_INSIDE')])),\n",
       " ({'$OBJ_0': '$SHAPE', '$OBJ_1': '$SHAPE', '$OBJ_2': '$SHAPE'},\n",
       "  OrderedDict([(('$OBJ_0', '$OBJ_1'), '$SAME_ROW'),\n",
       "               (('$OBJ_0', '$OBJ_2'), '$SAME_SIZE')])),\n",
       " ({'$OBJ_0': '$SHAPE', '$OBJ_1': '$SHAPE', '$OBJ_2': '$SHAPE'},\n",
       "  OrderedDict([(('$OBJ_0', '$OBJ_1'), '$SAME_ROW'),\n",
       "               (('$OBJ_0', '$OBJ_2'), '$SAME_COLOR')])),\n",
       " ({'$OBJ_0': '$SHAPE', '$OBJ_1': '$SHAPE', '$OBJ_2': '$SHAPE'},\n",
       "  OrderedDict([(('$OBJ_0', '$OBJ_1'), '$SAME_COLUMN'),\n",
       "               (('$OBJ_0', '$OBJ_2'), '$SAME_ROW')]))]"
      ]
     },
     "execution_count": 11,
     "metadata": {},
     "output_type": "execute_result"
    }
   ],
   "source": [
    "grammer.sample_object_relation_grammer(\n",
    "    '$OBJ_0', \n",
    "    grammer.build_dependency_graph('$OBJ_0 ^ $OBJ_1 & $OBJ_2'))[:5]"
   ]
  },
  {
   "cell_type": "code",
   "execution_count": 12,
   "metadata": {},
   "outputs": [
    {
     "data": {
      "text/plain": [
       "[{'$OBJ_0': 'object', '$OBJ_1': 'circle', '$OBJ_2': 'cylinder'},\n",
       " {'$OBJ_0': 'object', '$OBJ_1': 'circle', '$OBJ_2': 'square'},\n",
       " {'$OBJ_0': 'object', '$OBJ_1': 'cylinder', '$OBJ_2': 'circle'},\n",
       " {'$OBJ_0': 'object', '$OBJ_1': 'cylinder', '$OBJ_2': 'square'},\n",
       " {'$OBJ_0': 'object', '$OBJ_1': 'square', '$OBJ_2': 'circle'},\n",
       " {'$OBJ_0': 'object', '$OBJ_1': 'square', '$OBJ_2': 'cylinder'}]"
      ]
     },
     "execution_count": 12,
     "metadata": {},
     "output_type": "execute_result"
    }
   ],
   "source": [
    "obj_pattern_map = {'$OBJ_0': '$ABS_SHAPE', '$OBJ_1': '$SHAPE', '$OBJ_2': '$SHAPE'}\n",
    "rel_map = {('$OBJ_0', '$OBJ_1'): '$SAME_ROW', ('$OBJ_0', '$OBJ_2'): '$SAME_COLUMN'}\n",
    "grammer_pattern = '$OBJ_0 ^ $OBJ_1 & $OBJ_2'\n",
    "grammer.grounding_grammer_with_vocabulary(grammer_pattern, obj_pattern_map, rel_map)"
   ]
  },
  {
   "cell_type": "markdown",
   "metadata": {},
   "source": [
    "### ReaSCAN Simulator"
   ]
  },
  {
   "cell_type": "code",
   "execution_count": 13,
   "metadata": {},
   "outputs": [],
   "source": [
    "simulator = Simulator(object_vocabulary, vocabulary, grid_size=10)"
   ]
  },
  {
   "cell_type": "code",
   "execution_count": 14,
   "metadata": {},
   "outputs": [
    {
     "ename": "NameError",
     "evalue": "name 'grammer_pattern' is not defined",
     "output_type": "error",
     "traceback": [
      "\u001b[0;31m---------------------------------------------------------------------------\u001b[0m",
      "\u001b[0;31mNameError\u001b[0m                                 Traceback (most recent call last)",
      "\u001b[0;32m<ipython-input-14-9dbd9c90ec09>\u001b[0m in \u001b[0;36m<module>\u001b[0;34m\u001b[0m\n\u001b[1;32m      7\u001b[0m     \u001b[0mobj_pattern_map\u001b[0m\u001b[0;34m,\u001b[0m\u001b[0;34m\u001b[0m\u001b[0;34m\u001b[0m\u001b[0m\n\u001b[1;32m      8\u001b[0m     \u001b[0mrel_map\u001b[0m\u001b[0;34m,\u001b[0m\u001b[0;34m\u001b[0m\u001b[0;34m\u001b[0m\u001b[0m\n\u001b[0;32m----> 9\u001b[0;31m     obj_map)\n\u001b[0m",
      "\u001b[0;32m~/Dropbox/Reason-SCAN/code/dataset/simulator.py\u001b[0m in \u001b[0;36msample_situations_from_grounded_grammer\u001b[0;34m(self, grammer_pattern, obj_pattern_map, rel_map, obj_map, root)\u001b[0m\n\u001b[1;32m    352\u001b[0m         \u001b[0;32mif\u001b[0m \u001b[0mrandom\u001b[0m\u001b[0;34m.\u001b[0m\u001b[0mrandom\u001b[0m\u001b[0;34m(\u001b[0m\u001b[0;34m)\u001b[0m \u001b[0;34m<=\u001b[0m \u001b[0;36m0.5\u001b[0m\u001b[0;34m:\u001b[0m\u001b[0;34m\u001b[0m\u001b[0;34m\u001b[0m\u001b[0m\n\u001b[1;32m    353\u001b[0m             self.place_relational_distractors(current_plain_situation, grammer_pattern, \n\u001b[0;32m--> 354\u001b[0;31m                                               obj_pattern_map, rel_map, obj_map)\n\u001b[0m\u001b[1;32m    355\u001b[0m         \u001b[0;32melse\u001b[0m\u001b[0;34m:\u001b[0m\u001b[0;34m\u001b[0m\u001b[0;34m\u001b[0m\u001b[0m\n\u001b[1;32m    356\u001b[0m             self.place_random_distractors(current_plain_situation, grammer_pattern, \n",
      "\u001b[0;32m~/Dropbox/Reason-SCAN/code/dataset/simulator.py\u001b[0m in \u001b[0;36mplace_relational_distractors\u001b[0;34m(self, current_plain_situation, original_grammer_pattern, original_obj_pattern_map, original_rel_map, original_obj_map, root)\u001b[0m\n\u001b[1;32m    454\u001b[0m \u001b[0;34m\u001b[0m\u001b[0m\n\u001b[1;32m    455\u001b[0m                     if not self.valid_distractor(d_size, d_color, d_shape, d_row, d_col, current_plain_situation,\n\u001b[0;32m--> 456\u001b[0;31m                                                  grammer_pattern, obj_pattern_map, rel_map, obj_map, [old_rel]):\n\u001b[0m\u001b[1;32m    457\u001b[0m                         \u001b[0mvalid_distractor\u001b[0m \u001b[0;34m=\u001b[0m \u001b[0;32mFalse\u001b[0m\u001b[0;34m\u001b[0m\u001b[0;34m\u001b[0m\u001b[0m\n\u001b[1;32m    458\u001b[0m                         \u001b[0;32mbreak\u001b[0m\u001b[0;34m\u001b[0m\u001b[0;34m\u001b[0m\u001b[0m\n",
      "\u001b[0;31mNameError\u001b[0m: name 'grammer_pattern' is not defined"
     ]
    }
   ],
   "source": [
    "obj_pattern_map = {'$OBJ_0': '$ABS_SHAPE', '$OBJ_1': '$COLOR $SHAPE', '$OBJ_2': '$SHAPE'}\n",
    "rel_map = {('$OBJ_0', '$OBJ_1'): '$SAME_ROW', ('$OBJ_0', '$OBJ_2'): '$IS_INSIDE'}\n",
    "grammer_pattern = '$OBJ_0 ^ $OBJ_1 & $OBJ_2'\n",
    "obj_map = {'$OBJ_0': 'object', '$OBJ_1': 'red square', '$OBJ_2': 'box'}\n",
    "simulator.sample_situations_from_grounded_grammer(\n",
    "    grammer_pattern, \n",
    "    obj_pattern_map, \n",
    "    rel_map, \n",
    "    obj_map)"
   ]
  },
  {
   "cell_type": "markdown",
   "metadata": {},
   "source": [
    "### ReaSCAN Dataset"
   ]
  },
  {
   "cell_type": "code",
   "execution_count": null,
   "metadata": {},
   "outputs": [],
   "source": [
    "class ReaSCAN(object):\n",
    "    \"\"\"\n",
    "    This contains a couple modules:\n",
    "    (1) dataset generator.\n",
    "    (2) dataset splitter.\n",
    "    (3) dataset stats monitor.\n",
    "    (4) dataset IO operator.\n",
    "    (5) dataset tensorer.\n",
    "    \"\"\"\n",
    "    def __init__(self):\n",
    "        pass"
   ]
  },
  {
   "cell_type": "code",
   "execution_count": null,
   "metadata": {},
   "outputs": [],
   "source": []
  }
 ],
 "metadata": {
  "kernelspec": {
   "display_name": "Python 3",
   "language": "python",
   "name": "python3"
  },
  "language_info": {
   "codemirror_mode": {
    "name": "ipython",
    "version": 3
   },
   "file_extension": ".py",
   "mimetype": "text/x-python",
   "name": "python",
   "nbconvert_exporter": "python",
   "pygments_lexer": "ipython3",
   "version": "3.7.3"
  }
 },
 "nbformat": 4,
 "nbformat_minor": 4
}
