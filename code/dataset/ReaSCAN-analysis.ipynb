{
 "cells": [
  {
   "cell_type": "code",
   "execution_count": 3,
   "metadata": {},
   "outputs": [],
   "source": [
    "import json\n",
    "import os\n",
    "# test out the world\n",
    "import matplotlib as plt\n",
    "import matplotlib.pyplot as plt\n",
    "import matplotlib.image as mpimg\n",
    "from vocabulary import *\n",
    "from object_vocabulary import *\n",
    "from world import *\n",
    "from grammer import *\n",
    "from simulator import *\n",
    "from relation_graph import *\n",
    "import logging\n",
    "import torch\n",
    "def isnotebook():\n",
    "    try:\n",
    "        shell = get_ipython().__class__.__name__\n",
    "        if shell == 'ZMQInteractiveShell':\n",
    "            return True   # Jupyter notebook or qtconsole\n",
    "        elif shell == 'TerminalInteractiveShell':\n",
    "            return False  # Terminal running IPython\n",
    "        else:\n",
    "            return False  # Other type (?)\n",
    "    except NameError:\n",
    "        return False      # Probably standard Python interpreter\n",
    "if isnotebook():\n",
    "    device = torch.device(\"cpu\")\n",
    "else:\n",
    "    device = torch.device(\"cuda\" if torch.cuda.is_available() else \"cpu\")\n",
    "\n",
    "FORMAT = \"%(asctime)-15s %(message)s\"\n",
    "logging.basicConfig(format=FORMAT, level=logging.INFO,\n",
    "                    datefmt=\"%Y-%m-%d %H:%M\")\n",
    "logger = logging.getLogger(__name__)\n",
    "\n",
    "import os\n",
    "os.environ['QT_QPA_PLATFORM']='offscreen'"
   ]
  },
  {
   "cell_type": "markdown",
   "metadata": {},
   "source": [
    "### Data Loader\n",
    "Loading all created data long with gSCAN into memory."
   ]
  },
  {
   "cell_type": "code",
   "execution_count": 4,
   "metadata": {},
   "outputs": [],
   "source": [
    "gSCAN_data_file = \"gSCAN-compositional_splits/dataset.txt\"\n",
    "gSCAN_data_json = json.load(open(os.path.join(\"../../data-files/\", gSCAN_data_file)))"
   ]
  },
  {
   "cell_type": "code",
   "execution_count": 5,
   "metadata": {},
   "outputs": [
    {
     "name": "stderr",
     "output_type": "stream",
     "text": [
      "2021-05-20 17:00 Reading dataset from file: ../../data-files/ReaSCAN-compositional-p1/data-compositional-splits.txt...\n",
      "2021-05-20 17:00 Reading dataset from file: ../../data-files/ReaSCAN-compositional-p2/data-compositional-splits.txt...\n",
      "2021-05-20 17:01 Reading dataset from file: ../../data-files/ReaSCAN-compositional-p3/data-compositional-splits.txt...\n",
      "2021-05-20 17:02 Reading dataset from file: ../../data-files/ReaSCAN-compositional-p3-rd/data-compositional-splits.txt...\n"
     ]
    }
   ],
   "source": [
    "p1_path_to_data = \"../../data-files/ReaSCAN-compositional-p1/data-compositional-splits.txt\"\n",
    "logger.info(f\"Reading dataset from file: {p1_path_to_data}...\")\n",
    "p1_data_json = json.load(open(p1_path_to_data, \"r\"))\n",
    "\n",
    "p2_path_to_data = \"../../data-files/ReaSCAN-compositional-p2/data-compositional-splits.txt\"\n",
    "logger.info(f\"Reading dataset from file: {p2_path_to_data}...\")\n",
    "p2_data_json = json.load(open(p2_path_to_data, \"r\"))\n",
    "\n",
    "p3_path_to_data = \"../../data-files/ReaSCAN-compositional-p3/data-compositional-splits.txt\"\n",
    "logger.info(f\"Reading dataset from file: {p3_path_to_data}...\")\n",
    "p3_data_json = json.load(open(p3_path_to_data, \"r\"))\n",
    "\n",
    "p3_rd_path_to_data = \"../../data-files/ReaSCAN-compositional-p3-rd/data-compositional-splits.txt\"\n",
    "logger.info(f\"Reading dataset from file: {p3_rd_path_to_data}...\")\n",
    "p3_rd_data_json = json.load(open(p3_rd_path_to_data, \"r\"))"
   ]
  },
  {
   "cell_type": "markdown",
   "metadata": {},
   "source": [
    "#### 1. Action Sequence Length Analyses\n",
    "Let us see if aciton sequence is similarily distributed across these tasks. We don't want them to distribute differently, as we know longer sequence is definitely harder."
   ]
  },
  {
   "cell_type": "code",
   "execution_count": 17,
   "metadata": {},
   "outputs": [],
   "source": [
    "gSCAN_action_lengths = []\n",
    "for i in range(0, len(gSCAN_data_json[\"examples\"][\"train\"])):\n",
    "    gSCAN_action_lengths.append(len(gSCAN_data_json[\"examples\"][\"train\"][i][\"target_commands\"].split(\",\")))\n",
    "\n",
    "# Let us look at sequence length in each training split of these generated sets.\n",
    "p1_action_lengths = []\n",
    "for i in range(0, len(p1_data_json[\"examples\"][\"train\"])):\n",
    "    p1_action_lengths.append(len(p1_data_json[\"examples\"][\"train\"][i][\"target_commands\"].split(\",\")))\n",
    "    \n",
    "p2_action_lengths = []\n",
    "for i in range(0, len(p2_data_json[\"examples\"][\"train\"])):\n",
    "    p2_action_lengths.append(len(p2_data_json[\"examples\"][\"train\"][i][\"target_commands\"].split(\",\")))\n",
    "    \n",
    "p3_action_lengths = []\n",
    "for i in range(0, len(p3_data_json[\"examples\"][\"train\"])):\n",
    "    p3_action_lengths.append(len(p3_data_json[\"examples\"][\"train\"][i][\"target_commands\"].split(\",\")))\n",
    "    \n",
    "p3_rd_action_lengths = []\n",
    "for i in range(0, len(p3_rd_data_json[\"examples\"][\"train\"])):\n",
    "    p3_rd_action_lengths.append(len(p3_rd_data_json[\"examples\"][\"train\"][i][\"target_commands\"].split(\",\")))"
   ]
  },
  {
   "cell_type": "code",
   "execution_count": 97,
   "metadata": {},
   "outputs": [],
   "source": [
    "from collections import Counter\n",
    "bin_width = 8\n",
    "upper_bound = (max(p3_rd_action_lengths)//bin_width)+1\n",
    "def get_freq_list(action_lengths, bin_width=bin_width, upper_bound=upper_bound):\n",
    "    _freq = Counter()\n",
    "    for x in action_lengths:\n",
    "        _freq[(x - 1) // bin_width] += 1\n",
    "    _freq_list = []\n",
    "    for i in range(0, upper_bound):\n",
    "        if i in _freq:\n",
    "            _freq_list += [_freq[i]] \n",
    "        else:\n",
    "            _freq_list += [0]\n",
    "    return _freq_list\n",
    "\n",
    "gSCAN_freq_list = get_freq_list(gSCAN_action_lengths)\n",
    "p1_freq_list = get_freq_list(p1_action_lengths)\n",
    "p2_freq_list = get_freq_list(p2_action_lengths)\n",
    "p3_freq_list = get_freq_list(p3_action_lengths)\n",
    "p3_rd_freq_list = get_freq_list(p3_rd_action_lengths)"
   ]
  },
  {
   "cell_type": "code",
   "execution_count": 134,
   "metadata": {},
   "outputs": [
    {
     "data": {
      "image/png": "[encoded data removed]",
      "text/plain": [
       "<Figure size 432x288 with 1 Axes>"
      ]
     },
     "metadata": {},
     "output_type": "display_data"
    }
   ],
   "source": [
    "import numpy as np\n",
    "import matplotlib.pyplot as plt\n",
    "plt.style.use(\"ggplot\")\n",
    "plt.rcParams[\"font.family\"] = \"DejaVu Serif\"\n",
    "font = {'family' : 'DejaVu Serif',\n",
    "        'size'   : 20}\n",
    "plt.rc('font', **font)\n",
    "\n",
    "X = np.arange(len(p2_freq_list))\n",
    "X = X*1.5\n",
    "fig = plt.figure(figsize=(6, 4))\n",
    "ax = fig.add_axes([0,0,1,1])\n",
    "ax.bar(X + 0.00, gSCAN_freq_list, color = 'navy', width = 0.25, label='gSCAN')\n",
    "ax.bar(X + 0.25, p1_freq_list, color = 'darkolivegreen', width = 0.25, label='P1')\n",
    "ax.bar(X + 0.50, p2_freq_list, color = 'yellowgreen', width = 0.25, label='P2')\n",
    "ax.bar(X + 0.75, p3_freq_list, color = 'greenyellow', width = 0.25, label='P3')\n",
    "ax.bar(X + 1.0, p3_rd_freq_list, color = 'yellow', width = 0.25, label='P3-RD')\n",
    "plt.ticklabel_format(axis='y', style='sci', scilimits=(0,0))\n",
    "fig.legend(loc='upper right', bbox_to_anchor=(1.15,1.18), facecolor='white',\n",
    "           ncol=2, fancybox=True, shadow=True, fontsize=15)\n",
    "ax.set_ylabel('Frequency')\n",
    "ax.set_xlabel('Action Sequence Length')\n",
    "plt.xticks([0,5,10,15,20], [\"1\", \"25\", \"50\", \"75\", \"100\"])\n",
    "# plt.show()\n",
    "plt.savefig(\"../../data-files/Analysis-Result/action_sequence_length\",dpi=1000, bbox_inches='tight')"
   ]
  },
  {
   "cell_type": "markdown",
   "metadata": {},
   "source": [
    "### ReaSCAN Analyses\n",
    "This file contains statistics analysis of the generated ReaSCAN by comparing to gSCAN."
   ]
  },
  {
   "cell_type": "code",
   "execution_count": 18,
   "metadata": {},
   "outputs": [],
   "source": [
    "external_data_dir = \"../../data-files/\"\n",
    "ReaSCAN_data_file = \"ReaSCAN-compositional-p1/data-compositional-splits.txt\"\n",
    "ReaSCAN_data_json = json.load(open(os.path.join(external_data_dir, ReaSCAN_data_file)))"
   ]
  },
  {
   "cell_type": "code",
   "execution_count": null,
   "metadata": {},
   "outputs": [],
   "source": [
    "# test out the vocabulary\n",
    "intransitive_verbs = [\"walk\"]\n",
    "transitive_verbs = [\"push\", \"pull\"]\n",
    "adverbs = [\"while zigzagging\", \"while spinning\", \"cautiously\", \"hesitantly\"]\n",
    "nouns = [\"circle\", \"cylinder\", \"square\", \"box\"]\n",
    "color_adjectives = [\"red\", \"blue\", \"green\", \"yellow\"]\n",
    "size_adjectives = [\"big\", \"small\"]\n",
    "relative_pronouns = [\"that is\"]\n",
    "relation_clauses = [\"in the same row as\", \n",
    "                    \"in the same column as\", \n",
    "                    \"in the same color as\", \n",
    "                    \"in the same shape as\", \n",
    "                    \"in the same size as\",\n",
    "                    \"inside of\"]\n",
    "vocabulary = Vocabulary.initialize(intransitive_verbs=intransitive_verbs,\n",
    "                                   transitive_verbs=transitive_verbs, adverbs=adverbs, nouns=nouns,\n",
    "                                   color_adjectives=color_adjectives,\n",
    "                                   size_adjectives=size_adjectives, \n",
    "                                   relative_pronouns=relative_pronouns, \n",
    "                                   relation_clauses=relation_clauses)\n",
    "\n",
    "# test out the object vocab\n",
    "min_object_size = 1\n",
    "max_object_size = 4\n",
    "object_vocabulary = ObjectVocabulary(shapes=vocabulary.get_semantic_shapes(),\n",
    "                                     colors=vocabulary.get_semantic_colors(),\n",
    "                                     min_size=min_object_size, max_size=max_object_size)\n",
    "# object_vocabulary.generate_objects()"
   ]
  },
  {
   "cell_type": "code",
   "execution_count": 56,
   "metadata": {},
   "outputs": [
    {
     "name": "stdout",
     "output_type": "stream",
     "text": [
      "command: push,the,big,blue,circle,cautiously\n"
     ]
    },
    {
     "data": {
      "image/png": "[encoded data removed]",
      "text/plain": [
       "<Figure size 432x288 with 1 Axes>"
      ]
     },
     "metadata": {},
     "output_type": "display_data"
    }
   ],
   "source": [
    "example = ReaSCAN_data_json[\"examples\"][\"train\"][random.randint(0, len(ReaSCAN_data_json[\"examples\"][\"train\"])-1)]\n",
    "command = example[\"command\"]\n",
    "print(f\"command: {command}\")\n",
    "situation = example[\"situation\"]\n",
    "world = World(grid_size=6, colors=vocabulary.get_semantic_colors(),\n",
    "              object_vocabulary=object_vocabulary,\n",
    "              shapes=vocabulary.get_semantic_shapes(),\n",
    "              save_directory=\"./tmp/\")\n",
    "world.clear_situation()\n",
    "for obj_idx, obj in situation[\"placed_objects\"].items():\n",
    "    world.place_object(\n",
    "        Object(size=int(obj[\"object\"][\"size\"]), color=obj[\"object\"][\"color\"], shape=obj[\"object\"][\"shape\"]), \n",
    "        position=Position(row=int(obj[\"position\"][\"row\"]), column=int(obj[\"position\"][\"column\"]))\n",
    "    )\n",
    "world.place_agent_at(\n",
    "    Position(\n",
    "        row=int(situation[\"agent_position\"][\"row\"]), \n",
    "        column=int(situation[\"agent_position\"][\"column\"])\n",
    "))\n",
    "_ = world.render_simple()\n"
   ]
  },
  {
   "cell_type": "code",
   "execution_count": null,
   "metadata": {},
   "outputs": [],
   "source": []
  },
  {
   "cell_type": "code",
   "execution_count": null,
   "metadata": {},
   "outputs": [],
   "source": []
  },
  {
   "cell_type": "code",
   "execution_count": 15,
   "metadata": {},
   "outputs": [],
   "source": [
    "import json\n",
    "import os\n",
    "\n",
    "external_data_dir = \"../../data-files/\"\n",
    "ReaSCAN_data_file = \"ReaSCAN-compositional/data-compositional-splits.txt\"\n",
    "ReaSCAN_data_json = json.load(open(os.path.join(external_data_dir, ReaSCAN_data_file)))"
   ]
  },
  {
   "cell_type": "code",
   "execution_count": 16,
   "metadata": {},
   "outputs": [
    {
     "name": "stdout",
     "output_type": "stream",
     "text": [
      "SPLIT: train, COUNT: 352392\n",
      "SPLIT: novel_inside_of_as_yellow_box, COUNT: 15950\n",
      "SPLIT: gscan_yellow_square_command_target_only, COUNT: 21801\n",
      "SPLIT: gscan_yellow_square_command, COUNT: 76979\n",
      "SPLIT: gscan_red_box_visual, COUNT: 52433\n",
      "SPLIT: novel_green_circle_box_coexist_box_shape, COUNT: 13700\n",
      "SPLIT: gscan_small_cylinder_command_target_only, COUNT: 31867\n",
      "SPLIT: novel_yellow_square_blue_circle_coexist_shape, COUNT: 8450\n",
      "SPLIT: novel_same_shape_is_inside_coexist_relation, COUNT: 4698\n",
      "SPLIT: dev, COUNT: 19282\n",
      "SPLIT: test, COUNT: 3716\n"
     ]
    }
   ],
   "source": [
    "# Data splits\n",
    "for split_name, examples in ReaSCAN_data_json[\"examples\"].items():\n",
    "    print(f\"SPLIT: {split_name}, COUNT: {len(examples)}\")"
   ]
  },
  {
   "cell_type": "code",
   "execution_count": 17,
   "metadata": {},
   "outputs": [
    {
     "name": "stdout",
     "output_type": "stream",
     "text": [
      "SPLIT: train, P1_COUNT: 1743, P2_COUNT: 34700, P3_COUNT: 315949\n",
      "SPLIT: novel_inside_of_as_yellow_box, P1_COUNT: 0, P2_COUNT: 1600, P3_COUNT: 14350\n",
      "SPLIT: gscan_yellow_square_command_target_only, P1_COUNT: 150, P2_COUNT: 2700, P3_COUNT: 18951\n",
      "SPLIT: gscan_yellow_square_command, P1_COUNT: 150, P2_COUNT: 6100, P3_COUNT: 70729\n",
      "SPLIT: gscan_red_box_visual, P1_COUNT: 0, P2_COUNT: 2211, P3_COUNT: 50222\n",
      "SPLIT: novel_green_circle_box_coexist_box_shape, P1_COUNT: 0, P2_COUNT: 0, P3_COUNT: 13700\n",
      "SPLIT: gscan_small_cylinder_command_target_only, P1_COUNT: 250, P2_COUNT: 3450, P3_COUNT: 28167\n",
      "SPLIT: novel_yellow_square_blue_circle_coexist_shape, P1_COUNT: 0, P2_COUNT: 500, P3_COUNT: 7950\n",
      "SPLIT: novel_same_shape_is_inside_coexist_relation, P1_COUNT: 0, P2_COUNT: 0, P3_COUNT: 4698\n",
      "SPLIT: dev, P1_COUNT: 90, P2_COUNT: 1899, P3_COUNT: 17293\n",
      "SPLIT: test, P1_COUNT: 17, P2_COUNT: 372, P3_COUNT: 3327\n"
     ]
    }
   ],
   "source": [
    "# Data splits per command pattern\n",
    "for split_name, examples in ReaSCAN_data_json[\"examples\"].items():\n",
    "    p1_c = 0\n",
    "    p2_c = 0\n",
    "    p3_c = 0\n",
    "    for example in examples:\n",
    "        if example[\"derivation\"] == '$OBJ_0 ^ $OBJ_1 & $OBJ_2':\n",
    "            p3_c += 1\n",
    "        elif example[\"derivation\"] == '$OBJ_0 ^ $OBJ_1':\n",
    "            p2_c += 1\n",
    "        elif example[\"derivation\"] == '$OBJ_0':\n",
    "            p1_c += 1\n",
    "    print(f\"SPLIT: {split_name}, P1_COUNT: {p1_c}, P2_COUNT: {p2_c}, P3_COUNT: {p3_c}\")"
   ]
  },
  {
   "cell_type": "code",
   "execution_count": 10,
   "metadata": {},
   "outputs": [
    {
     "data": {
      "text/plain": [
       "{'command': 'push,the,object,that,is,in,the,same,row,as,the,small,green,cylinder,and,in,the,same,column,as,a,big,cylinder',\n",
       " 'grammer_pattern': '$OBJ_0 ^ $OBJ_1 & $OBJ_2',\n",
       " 'meaning': 'push,the,object,that,is,in,the,same,row,as,the,small,green,cylinder,and,in,the,same,column,as,a,big,cylinder',\n",
       " 'derivation': '$OBJ_0 ^ $OBJ_1 & $OBJ_2',\n",
       " 'situation': {'grid_size': 6,\n",
       "  'agent_position': {'row': '2', 'column': '4'},\n",
       "  'agent_direction': 0,\n",
       "  'target_object': {'vector': '000101000001',\n",
       "   'position': {'row': '4', 'column': '4'},\n",
       "   'object': {'shape': 'cylinder', 'color': 'yellow', 'size': '4'}},\n",
       "  'distance_to_target': '2',\n",
       "  'direction_to_target': 's',\n",
       "  'placed_objects': {'0': {'vector': '000101000001',\n",
       "    'position': {'row': '4', 'column': '4'},\n",
       "    'object': {'shape': 'cylinder', 'color': 'yellow', 'size': '4'}},\n",
       "   '1': {'vector': '100001000010',\n",
       "    'position': {'row': '4', 'column': '0'},\n",
       "    'object': {'shape': 'cylinder', 'color': 'green', 'size': '1'}},\n",
       "   '2': {'vector': '000101000001',\n",
       "    'position': {'row': '0', 'column': '4'},\n",
       "    'object': {'shape': 'cylinder', 'color': 'yellow', 'size': '4'}},\n",
       "   '3': {'vector': '000110001000',\n",
       "    'position': {'row': '2', 'column': '1'},\n",
       "    'object': {'shape': 'circle', 'color': 'red', 'size': '4'}},\n",
       "   '4': {'vector': '000101000010',\n",
       "    'position': {'row': '0', 'column': '5'},\n",
       "    'object': {'shape': 'cylinder', 'color': 'green', 'size': '4'}},\n",
       "   '5': {'vector': '000101001000',\n",
       "    'position': {'row': '0', 'column': '1'},\n",
       "    'object': {'shape': 'cylinder', 'color': 'red', 'size': '4'}},\n",
       "   '6': {'vector': '001010000001',\n",
       "    'position': {'row': '5', 'column': '2'},\n",
       "    'object': {'shape': 'circle', 'color': 'yellow', 'size': '3'}},\n",
       "   '7': {'vector': '001000100010',\n",
       "    'position': {'row': '5', 'column': '0'},\n",
       "    'object': {'shape': 'square', 'color': 'green', 'size': '3'}},\n",
       "   '8': {'vector': '000101000100',\n",
       "    'position': {'row': '0', 'column': '2'},\n",
       "    'object': {'shape': 'cylinder', 'color': 'blue', 'size': '4'}},\n",
       "   '9': {'vector': '100010000100',\n",
       "    'position': {'row': '1', 'column': '1'},\n",
       "    'object': {'shape': 'circle', 'color': 'blue', 'size': '1'}},\n",
       "   '10': {'vector': '000101000010',\n",
       "    'position': {'row': '1', 'column': '0'},\n",
       "    'object': {'shape': 'cylinder', 'color': 'green', 'size': '4'}},\n",
       "   '11': {'vector': '100001001000',\n",
       "    'position': {'row': '3', 'column': '1'},\n",
       "    'object': {'shape': 'cylinder', 'color': 'red', 'size': '1'}}},\n",
       "  'carrying_object': None},\n",
       " 'target_commands': 'turn right,walk,walk,push,push',\n",
       " 'verb_in_command': 'push',\n",
       " 'adverb_in_command': '',\n",
       " 'referred_target': 'object',\n",
       " 'object_pattern_map': {'$OBJ_0': '$ABS_SHAPE',\n",
       "  '$OBJ_1': '$SIZE $COLOR $SHAPE',\n",
       "  '$OBJ_2': '$SIZE $SHAPE'},\n",
       " 'relation_map': [[['$OBJ_0', '$OBJ_1'], '$SAME_ROW'],\n",
       "  [['$OBJ_0', '$OBJ_2'], '$SAME_COLUMN']],\n",
       " 'object_expression': {'$OBJ_0': 'object',\n",
       "  '$OBJ_1': 'small green cylinder',\n",
       "  '$OBJ_2': 'big cylinder'},\n",
       " 'n_object': 12,\n",
       " 'n_distractor': 9,\n",
       " 'full_relation_distractor': True,\n",
       " 'has_relation_distractor': True,\n",
       " 'has_attribute_distractor': True,\n",
       " 'has_isomorphism_distractor': True,\n",
       " 'has_random_distractor': False,\n",
       " 'n_random_distractor': 0,\n",
       " 'relation_distractor_metadata': [{'distractor_metadata': {'edge': ['$OBJ_0',\n",
       "     '$OBJ_1'],\n",
       "    'relation_old_type': '$SAME_ROW',\n",
       "    'relation_new_type': '$SAME_SIZE'}}],\n",
       " 'attribute_distractor_metadata': [{'distractor_metadata': [{'modified_obj': '$OBJ_1',\n",
       "     'modified_attribute': '$SHAPE'}]}],\n",
       " 'isomorphism_distractor_metadata': [{'distractor_metadata': [{'swapped_pair': ['$OBJ_1',\n",
       "      '$OBJ_2'],\n",
       "     'before_pair_obj_str': ['small green cylinder', 'big cylinder'],\n",
       "     'after_pair_obj_str': ['big green cylinder', 'small cylinder'],\n",
       "     'size_shuffled': True,\n",
       "     'color_shuffled': False,\n",
       "     'shape_shuffled': True}]}],\n",
       " 'random_distractor_metadata': [{}]}"
      ]
     },
     "execution_count": 10,
     "metadata": {},
     "output_type": "execute_result"
    }
   ],
   "source": [
    "ReaSCAN_data_json[\"examples\"][\"train\"][0]"
   ]
  },
  {
   "cell_type": "markdown",
   "metadata": {},
   "source": [
    "### gSCAN Analyses\n"
   ]
  },
  {
   "cell_type": "code",
   "execution_count": 8,
   "metadata": {},
   "outputs": [],
   "source": [
    "gSCAN_data_file = \"gSCAN-compositional_splits/dataset.txt\"\n",
    "gSCAN_data_json = json.load(open(os.path.join(external_data_dir, gSCAN_data_file)))"
   ]
  },
  {
   "cell_type": "code",
   "execution_count": 9,
   "metadata": {},
   "outputs": [
    {
     "name": "stdout",
     "output_type": "stream",
     "text": [
      "SPLIT: train, COUNT: 367933\n",
      "SPLIT: dev, COUNT: 3716\n",
      "SPLIT: test, COUNT: 19282\n",
      "SPLIT: visual, COUNT: 37436\n",
      "SPLIT: situational_1, COUNT: 88642\n",
      "SPLIT: situational_2, COUNT: 16808\n",
      "SPLIT: contextual, COUNT: 11460\n",
      "SPLIT: adverb_1, COUNT: 112880\n",
      "SPLIT: adverb_2, COUNT: 38582\n",
      "SPLIT: visual_easier, COUNT: 18718\n"
     ]
    }
   ],
   "source": [
    "# Data splits\n",
    "for split_name, examples in gSCAN_data_json[\"examples\"].items():\n",
    "    print(f\"SPLIT: {split_name}, COUNT: {len(examples)}\")"
   ]
  },
  {
   "cell_type": "code",
   "execution_count": null,
   "metadata": {},
   "outputs": [],
   "source": []
  }
 ],
 "metadata": {
  "kernelspec": {
   "display_name": "Python 3",
   "language": "python",
   "name": "python3"
  },
  "language_info": {
   "codemirror_mode": {
    "name": "ipython",
    "version": 3
   },
   "file_extension": ".py",
   "mimetype": "text/x-python",
   "name": "python",
   "nbconvert_exporter": "python",
   "pygments_lexer": "ipython3",
   "version": "3.7.6"
  }
 },
 "nbformat": 4,
 "nbformat_minor": 4
}
