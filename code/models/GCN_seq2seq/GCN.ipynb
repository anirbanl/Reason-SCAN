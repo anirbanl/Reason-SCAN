{
 "cells": [
  {
   "cell_type": "code",
   "execution_count": 1,
   "metadata": {},
   "outputs": [],
   "source": [
    "from lcgn import *"
   ]
  },
  {
   "cell_type": "code",
   "execution_count": 2,
   "metadata": {},
   "outputs": [],
   "source": [
    "model = LCGN()"
   ]
  },
  {
   "cell_type": "code",
   "execution_count": 3,
   "metadata": {},
   "outputs": [
    {
     "data": {
      "text/plain": [
       "LCGN(\n",
       "  (initKB): Linear(in_features=1152, out_features=512, bias=True)\n",
       "  (x_loc_drop): Dropout(p=0.15000000000000002, inplace=False)\n",
       "  (qInput): Linear(in_features=512, out_features=512, bias=True)\n",
       "  (qInput0): Linear(in_features=512, out_features=512, bias=True)\n",
       "  (qInput1): Linear(in_features=512, out_features=512, bias=True)\n",
       "  (qInput2): Linear(in_features=512, out_features=512, bias=True)\n",
       "  (qInput3): Linear(in_features=512, out_features=512, bias=True)\n",
       "  (cmd_inter2logits): Linear(in_features=512, out_features=1, bias=True)\n",
       "  (read_drop): Dropout(p=0.15000000000000002, inplace=False)\n",
       "  (project_x_loc): Linear(in_features=512, out_features=512, bias=True)\n",
       "  (project_x_ctx): Linear(in_features=512, out_features=512, bias=True)\n",
       "  (queries): Linear(in_features=1536, out_features=512, bias=True)\n",
       "  (keys): Linear(in_features=1536, out_features=512, bias=True)\n",
       "  (vals): Linear(in_features=1536, out_features=512, bias=True)\n",
       "  (proj_keys): Linear(in_features=512, out_features=512, bias=True)\n",
       "  (proj_vals): Linear(in_features=512, out_features=512, bias=True)\n",
       "  (mem_update): Linear(in_features=1024, out_features=512, bias=True)\n",
       "  (combine_kb): Linear(in_features=1024, out_features=512, bias=True)\n",
       ")"
      ]
     },
     "execution_count": 3,
     "metadata": {},
     "output_type": "execute_result"
    }
   ],
   "source": [
    "model"
   ]
  },
  {
   "cell_type": "code",
   "execution_count": 1,
   "metadata": {},
   "outputs": [
    {
     "name": "stderr",
     "output_type": "stream",
     "text": [
      "Using backend: pytorch\n"
     ]
    }
   ],
   "source": [
    "from gnn import *"
   ]
  },
  {
   "cell_type": "code",
   "execution_count": 3,
   "metadata": {},
   "outputs": [],
   "source": [
    "model = LGCNLayer()"
   ]
  },
  {
   "cell_type": "code",
   "execution_count": 4,
   "metadata": {},
   "outputs": [],
   "source": [
    "a = torch.rand(3,3)"
   ]
  },
  {
   "cell_type": "code",
   "execution_count": 5,
   "metadata": {},
   "outputs": [
    {
     "data": {
      "text/plain": [
       "3"
      ]
     },
     "execution_count": 5,
     "metadata": {},
     "output_type": "execute_result"
    }
   ],
   "source": [
    "a.size(0)"
   ]
  },
  {
   "cell_type": "code",
   "execution_count": 6,
   "metadata": {},
   "outputs": [
    {
     "data": {
      "text/plain": [
       "tensor([[0.9654, 0.2811, 0.1062],\n",
       "        [0.8761, 0.0497, 0.5208],\n",
       "        [0.8844, 0.2910, 0.3690]])"
      ]
     },
     "execution_count": 6,
     "metadata": {},
     "output_type": "execute_result"
    }
   ],
   "source": [
    "a"
   ]
  },
  {
   "cell_type": "code",
   "execution_count": 9,
   "metadata": {},
   "outputs": [
    {
     "data": {
      "text/plain": [
       "0.9653984308242798"
      ]
     },
     "execution_count": 9,
     "metadata": {},
     "output_type": "execute_result"
    }
   ],
   "source": [
    "a.data.max().tolist()"
   ]
  },
  {
   "cell_type": "code",
   "execution_count": null,
   "metadata": {},
   "outputs": [],
   "source": []
  }
 ],
 "metadata": {
  "kernelspec": {
   "display_name": "Python 3",
   "language": "python",
   "name": "python3"
  },
  "language_info": {
   "codemirror_mode": {
    "name": "ipython",
    "version": 3
   },
   "file_extension": ".py",
   "mimetype": "text/x-python",
   "name": "python",
   "nbconvert_exporter": "python",
   "pygments_lexer": "ipython3",
   "version": "3.7.6"
  }
 },
 "nbformat": 4,
 "nbformat_minor": 4
}
